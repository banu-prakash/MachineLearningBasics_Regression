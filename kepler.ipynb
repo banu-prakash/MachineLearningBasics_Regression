{
 "cells": [
  {
   "cell_type": "markdown",
   "metadata": {
    "deletable": true,
    "editable": true
   },
   "source": [
    "### Import statements"
   ]
  },
  {
   "cell_type": "code",
   "execution_count": 84,
   "metadata": {
    "collapsed": true,
    "deletable": true,
    "editable": true
   },
   "outputs": [],
   "source": [
    "import pandas as pd\n",
    "import matplotlib.pyplot as plt\n",
    "import math\n",
    "import numpy as np\n",
    "import statsmodels.formula.api as sm\n",
    "import statsmodels.stats.diagnostic as sms\n",
    "\n",
    "#   Scikit Learn Package --\n",
    "import sklearn\n",
    "from sklearn.linear_model import LinearRegression\n",
    "from sklearn import cross_validation\n",
    "from sklearn.cross_validation import cross_val_score\n",
    "#Importing a package for Using Ridge and Lasso Analysis\n",
    "from sklearn.linear_model import Ridge, RidgeCV, Lasso, LassoCV\n",
    "from sklearn.preprocessing import scale\n",
    "# Splitting the Data Set into two Folds: Training and Testing using train_test_split()\n",
    "from sklearn.cross_validation import train_test_split\n",
    "# Tool for calculating MSE\n",
    "from sklearn.metrics import mean_squared_error\n",
    "from sklearn.preprocessing import scale\n",
    "\n",
    "#  Packages for Visualization --\n",
    "import seaborn as sns\n",
    "# Plotly\n",
    "from plotly.offline import plot  \n",
    "import plotly.plotly as py\n",
    "import plotly.graph_objs as go\n",
    "# Scatter Plot\n",
    "from pandas.tools.plotting import scatter_matrix"
   ]
  },
  {
   "cell_type": "code",
   "execution_count": 85,
   "metadata": {
    "collapsed": false,
    "deletable": true,
    "editable": true
   },
   "outputs": [
    {
     "data": {
      "text/html": [
       "<div>\n",
       "<table border=\"1\" class=\"dataframe\">\n",
       "  <thead>\n",
       "    <tr style=\"text-align: right;\">\n",
       "      <th></th>\n",
       "      <th>SemiMajorAxis</th>\n",
       "      <th>Volume</th>\n",
       "      <th>EscapeVelocity</th>\n",
       "      <th>Density</th>\n",
       "      <th>planet</th>\n",
       "      <th>OrbitalPeriod</th>\n",
       "    </tr>\n",
       "  </thead>\n",
       "  <tbody>\n",
       "    <tr>\n",
       "      <th>0</th>\n",
       "      <td>0.662104</td>\n",
       "      <td>10.236030</td>\n",
       "      <td>10.892849</td>\n",
       "      <td>6.072644</td>\n",
       "      <td>Venus</td>\n",
       "      <td>0.448359</td>\n",
       "    </tr>\n",
       "    <tr>\n",
       "      <th>1</th>\n",
       "      <td>11.721498</td>\n",
       "      <td>8.132345</td>\n",
       "      <td>34.080931</td>\n",
       "      <td>0.758931</td>\n",
       "      <td>Saturn</td>\n",
       "      <td>40.447949</td>\n",
       "    </tr>\n",
       "    <tr>\n",
       "      <th>2</th>\n",
       "      <td>4.903094</td>\n",
       "      <td>1.538470</td>\n",
       "      <td>58.493158</td>\n",
       "      <td>1.281688</td>\n",
       "      <td>Jupiter</td>\n",
       "      <td>10.063035</td>\n",
       "    </tr>\n",
       "    <tr>\n",
       "      <th>3</th>\n",
       "      <td>0.817968</td>\n",
       "      <td>8.532505</td>\n",
       "      <td>10.034185</td>\n",
       "      <td>6.129132</td>\n",
       "      <td>Venus</td>\n",
       "      <td>0.551544</td>\n",
       "    </tr>\n",
       "    <tr>\n",
       "      <th>4</th>\n",
       "      <td>27.016293</td>\n",
       "      <td>7.106079</td>\n",
       "      <td>25.796580</td>\n",
       "      <td>2.108022</td>\n",
       "      <td>Neptune</td>\n",
       "      <td>225.690334</td>\n",
       "    </tr>\n",
       "    <tr>\n",
       "      <th>5</th>\n",
       "      <td>24.645875</td>\n",
       "      <td>5.467985</td>\n",
       "      <td>24.884934</td>\n",
       "      <td>1.920847</td>\n",
       "      <td>Neptune</td>\n",
       "      <td>112.866058</td>\n",
       "    </tr>\n",
       "    <tr>\n",
       "      <th>6</th>\n",
       "      <td>0.697118</td>\n",
       "      <td>10.022764</td>\n",
       "      <td>10.050127</td>\n",
       "      <td>4.778389</td>\n",
       "      <td>Venus</td>\n",
       "      <td>0.500145</td>\n",
       "    </tr>\n",
       "    <tr>\n",
       "      <th>7</th>\n",
       "      <td>21.010415</td>\n",
       "      <td>7.157667</td>\n",
       "      <td>20.691601</td>\n",
       "      <td>1.347757</td>\n",
       "      <td>Uranus</td>\n",
       "      <td>179.595311</td>\n",
       "    </tr>\n",
       "    <tr>\n",
       "      <th>8</th>\n",
       "      <td>1.703412</td>\n",
       "      <td>1.676122</td>\n",
       "      <td>5.537115</td>\n",
       "      <td>4.229687</td>\n",
       "      <td>Mars</td>\n",
       "      <td>2.718085</td>\n",
       "    </tr>\n",
       "    <tr>\n",
       "      <th>9</th>\n",
       "      <td>6.130358</td>\n",
       "      <td>1.530082</td>\n",
       "      <td>58.528652</td>\n",
       "      <td>1.346489</td>\n",
       "      <td>Jupiter</td>\n",
       "      <td>16.136843</td>\n",
       "    </tr>\n",
       "    <tr>\n",
       "      <th>10</th>\n",
       "      <td>4.337365</td>\n",
       "      <td>1.489463</td>\n",
       "      <td>68.098124</td>\n",
       "      <td>1.553818</td>\n",
       "      <td>Jupiter</td>\n",
       "      <td>8.933020</td>\n",
       "    </tr>\n",
       "    <tr>\n",
       "      <th>11</th>\n",
       "      <td>0.882162</td>\n",
       "      <td>8.710400</td>\n",
       "      <td>10.258600</td>\n",
       "      <td>6.052999</td>\n",
       "      <td>Venus</td>\n",
       "      <td>0.857900</td>\n",
       "    </tr>\n",
       "    <tr>\n",
       "      <th>12</th>\n",
       "      <td>17.834193</td>\n",
       "      <td>6.652499</td>\n",
       "      <td>20.615391</td>\n",
       "      <td>1.196303</td>\n",
       "      <td>Uranus</td>\n",
       "      <td>69.746891</td>\n",
       "    </tr>\n",
       "    <tr>\n",
       "      <th>13</th>\n",
       "      <td>0.731478</td>\n",
       "      <td>9.624508</td>\n",
       "      <td>8.554682</td>\n",
       "      <td>4.995082</td>\n",
       "      <td>Venus</td>\n",
       "      <td>0.510987</td>\n",
       "    </tr>\n",
       "    <tr>\n",
       "      <th>14</th>\n",
       "      <td>1.598929</td>\n",
       "      <td>1.431034</td>\n",
       "      <td>4.705471</td>\n",
       "      <td>3.254832</td>\n",
       "      <td>Mars</td>\n",
       "      <td>2.682124</td>\n",
       "    </tr>\n",
       "    <tr>\n",
       "      <th>15</th>\n",
       "      <td>17.627012</td>\n",
       "      <td>6.254911</td>\n",
       "      <td>18.509679</td>\n",
       "      <td>1.106441</td>\n",
       "      <td>Uranus</td>\n",
       "      <td>85.803490</td>\n",
       "    </tr>\n",
       "    <tr>\n",
       "      <th>16</th>\n",
       "      <td>24.564755</td>\n",
       "      <td>7.697770</td>\n",
       "      <td>28.760828</td>\n",
       "      <td>1.595442</td>\n",
       "      <td>Neptune</td>\n",
       "      <td>139.089017</td>\n",
       "    </tr>\n",
       "    <tr>\n",
       "      <th>17</th>\n",
       "      <td>0.686305</td>\n",
       "      <td>7.526290</td>\n",
       "      <td>10.849397</td>\n",
       "      <td>5.903595</td>\n",
       "      <td>Venus</td>\n",
       "      <td>0.556752</td>\n",
       "    </tr>\n",
       "    <tr>\n",
       "      <th>18</th>\n",
       "      <td>1.532849</td>\n",
       "      <td>1.441715</td>\n",
       "      <td>5.291881</td>\n",
       "      <td>3.806160</td>\n",
       "      <td>Mars</td>\n",
       "      <td>2.804616</td>\n",
       "    </tr>\n",
       "    <tr>\n",
       "      <th>19</th>\n",
       "      <td>0.352937</td>\n",
       "      <td>6.716326</td>\n",
       "      <td>4.234435</td>\n",
       "      <td>5.452676</td>\n",
       "      <td>Mercury</td>\n",
       "      <td>0.139457</td>\n",
       "    </tr>\n",
       "    <tr>\n",
       "      <th>20</th>\n",
       "      <td>8.694293</td>\n",
       "      <td>9.222608</td>\n",
       "      <td>27.037753</td>\n",
       "      <td>0.697545</td>\n",
       "      <td>Saturn</td>\n",
       "      <td>40.866546</td>\n",
       "    </tr>\n",
       "    <tr>\n",
       "      <th>21</th>\n",
       "      <td>1.571067</td>\n",
       "      <td>1.774767</td>\n",
       "      <td>4.996399</td>\n",
       "      <td>4.938755</td>\n",
       "      <td>Mars</td>\n",
       "      <td>3.040992</td>\n",
       "    </tr>\n",
       "    <tr>\n",
       "      <th>22</th>\n",
       "      <td>18.864200</td>\n",
       "      <td>6.871962</td>\n",
       "      <td>21.300086</td>\n",
       "      <td>1.144251</td>\n",
       "      <td>Uranus</td>\n",
       "      <td>108.243166</td>\n",
       "    </tr>\n",
       "    <tr>\n",
       "      <th>23</th>\n",
       "      <td>0.752000</td>\n",
       "      <td>9.589921</td>\n",
       "      <td>9.165275</td>\n",
       "      <td>5.937520</td>\n",
       "      <td>Venus</td>\n",
       "      <td>0.440562</td>\n",
       "    </tr>\n",
       "    <tr>\n",
       "      <th>24</th>\n",
       "      <td>0.994642</td>\n",
       "      <td>0.989517</td>\n",
       "      <td>11.464084</td>\n",
       "      <td>5.501019</td>\n",
       "      <td>Earth</td>\n",
       "      <td>1.077800</td>\n",
       "    </tr>\n",
       "    <tr>\n",
       "      <th>25</th>\n",
       "      <td>1.388188</td>\n",
       "      <td>1.528773</td>\n",
       "      <td>5.894089</td>\n",
       "      <td>3.678096</td>\n",
       "      <td>Mars</td>\n",
       "      <td>1.286913</td>\n",
       "    </tr>\n",
       "    <tr>\n",
       "      <th>26</th>\n",
       "      <td>0.820244</td>\n",
       "      <td>9.043799</td>\n",
       "      <td>10.323267</td>\n",
       "      <td>5.120582</td>\n",
       "      <td>Venus</td>\n",
       "      <td>0.663448</td>\n",
       "    </tr>\n",
       "    <tr>\n",
       "      <th>27</th>\n",
       "      <td>1.080235</td>\n",
       "      <td>0.986554</td>\n",
       "      <td>12.392213</td>\n",
       "      <td>7.111330</td>\n",
       "      <td>Earth</td>\n",
       "      <td>0.936209</td>\n",
       "    </tr>\n",
       "    <tr>\n",
       "      <th>28</th>\n",
       "      <td>33.329735</td>\n",
       "      <td>6.789229</td>\n",
       "      <td>22.780220</td>\n",
       "      <td>1.696616</td>\n",
       "      <td>Neptune</td>\n",
       "      <td>92.900011</td>\n",
       "    </tr>\n",
       "    <tr>\n",
       "      <th>29</th>\n",
       "      <td>0.625310</td>\n",
       "      <td>7.892389</td>\n",
       "      <td>10.429899</td>\n",
       "      <td>5.660046</td>\n",
       "      <td>Venus</td>\n",
       "      <td>0.423936</td>\n",
       "    </tr>\n",
       "    <tr>\n",
       "      <th>...</th>\n",
       "      <td>...</td>\n",
       "      <td>...</td>\n",
       "      <td>...</td>\n",
       "      <td>...</td>\n",
       "      <td>...</td>\n",
       "      <td>...</td>\n",
       "    </tr>\n",
       "    <tr>\n",
       "      <th>70</th>\n",
       "      <td>1.132152</td>\n",
       "      <td>1.127208</td>\n",
       "      <td>10.636251</td>\n",
       "      <td>5.943694</td>\n",
       "      <td>Earth</td>\n",
       "      <td>1.260112</td>\n",
       "    </tr>\n",
       "    <tr>\n",
       "      <th>71</th>\n",
       "      <td>1.013983</td>\n",
       "      <td>1.163556</td>\n",
       "      <td>12.467101</td>\n",
       "      <td>4.868668</td>\n",
       "      <td>Earth</td>\n",
       "      <td>1.304693</td>\n",
       "    </tr>\n",
       "    <tr>\n",
       "      <th>72</th>\n",
       "      <td>0.458014</td>\n",
       "      <td>5.619139</td>\n",
       "      <td>4.660310</td>\n",
       "      <td>6.253456</td>\n",
       "      <td>Mercury</td>\n",
       "      <td>0.350366</td>\n",
       "    </tr>\n",
       "    <tr>\n",
       "      <th>73</th>\n",
       "      <td>0.689652</td>\n",
       "      <td>11.253846</td>\n",
       "      <td>10.744646</td>\n",
       "      <td>5.649555</td>\n",
       "      <td>Venus</td>\n",
       "      <td>0.597758</td>\n",
       "    </tr>\n",
       "    <tr>\n",
       "      <th>74</th>\n",
       "      <td>0.648608</td>\n",
       "      <td>9.349929</td>\n",
       "      <td>10.670331</td>\n",
       "      <td>5.967931</td>\n",
       "      <td>Venus</td>\n",
       "      <td>0.506373</td>\n",
       "    </tr>\n",
       "    <tr>\n",
       "      <th>75</th>\n",
       "      <td>20.190051</td>\n",
       "      <td>7.161302</td>\n",
       "      <td>22.448691</td>\n",
       "      <td>1.356613</td>\n",
       "      <td>Uranus</td>\n",
       "      <td>111.984978</td>\n",
       "    </tr>\n",
       "    <tr>\n",
       "      <th>76</th>\n",
       "      <td>0.935234</td>\n",
       "      <td>1.073521</td>\n",
       "      <td>12.317308</td>\n",
       "      <td>5.821099</td>\n",
       "      <td>Earth</td>\n",
       "      <td>1.235879</td>\n",
       "    </tr>\n",
       "    <tr>\n",
       "      <th>77</th>\n",
       "      <td>20.395465</td>\n",
       "      <td>7.472122</td>\n",
       "      <td>25.767089</td>\n",
       "      <td>1.341207</td>\n",
       "      <td>Uranus</td>\n",
       "      <td>93.476289</td>\n",
       "    </tr>\n",
       "    <tr>\n",
       "      <th>78</th>\n",
       "      <td>1.279298</td>\n",
       "      <td>1.571943</td>\n",
       "      <td>5.834037</td>\n",
       "      <td>3.490755</td>\n",
       "      <td>Mars</td>\n",
       "      <td>2.449191</td>\n",
       "    </tr>\n",
       "    <tr>\n",
       "      <th>79</th>\n",
       "      <td>4.357281</td>\n",
       "      <td>1.793904</td>\n",
       "      <td>57.712025</td>\n",
       "      <td>1.376823</td>\n",
       "      <td>Jupiter</td>\n",
       "      <td>9.239023</td>\n",
       "    </tr>\n",
       "    <tr>\n",
       "      <th>80</th>\n",
       "      <td>1.071415</td>\n",
       "      <td>1.267744</td>\n",
       "      <td>12.291750</td>\n",
       "      <td>4.909098</td>\n",
       "      <td>Earth</td>\n",
       "      <td>0.596652</td>\n",
       "    </tr>\n",
       "    <tr>\n",
       "      <th>81</th>\n",
       "      <td>9.854131</td>\n",
       "      <td>6.802972</td>\n",
       "      <td>35.180209</td>\n",
       "      <td>0.686468</td>\n",
       "      <td>Saturn</td>\n",
       "      <td>27.678327</td>\n",
       "    </tr>\n",
       "    <tr>\n",
       "      <th>82</th>\n",
       "      <td>0.421131</td>\n",
       "      <td>5.717695</td>\n",
       "      <td>4.168459</td>\n",
       "      <td>4.901396</td>\n",
       "      <td>Mercury</td>\n",
       "      <td>0.454166</td>\n",
       "    </tr>\n",
       "    <tr>\n",
       "      <th>83</th>\n",
       "      <td>1.242451</td>\n",
       "      <td>1.626920</td>\n",
       "      <td>5.399757</td>\n",
       "      <td>4.486709</td>\n",
       "      <td>Mars</td>\n",
       "      <td>1.955648</td>\n",
       "    </tr>\n",
       "    <tr>\n",
       "      <th>84</th>\n",
       "      <td>0.812820</td>\n",
       "      <td>7.815891</td>\n",
       "      <td>11.482139</td>\n",
       "      <td>5.269709</td>\n",
       "      <td>Venus</td>\n",
       "      <td>0.710168</td>\n",
       "    </tr>\n",
       "    <tr>\n",
       "      <th>85</th>\n",
       "      <td>21.573840</td>\n",
       "      <td>6.149791</td>\n",
       "      <td>20.645935</td>\n",
       "      <td>1.230446</td>\n",
       "      <td>Uranus</td>\n",
       "      <td>85.842625</td>\n",
       "    </tr>\n",
       "    <tr>\n",
       "      <th>86</th>\n",
       "      <td>33.261621</td>\n",
       "      <td>5.907100</td>\n",
       "      <td>25.596895</td>\n",
       "      <td>1.598030</td>\n",
       "      <td>Neptune</td>\n",
       "      <td>302.992769</td>\n",
       "    </tr>\n",
       "    <tr>\n",
       "      <th>87</th>\n",
       "      <td>1.081816</td>\n",
       "      <td>1.136781</td>\n",
       "      <td>11.156044</td>\n",
       "      <td>5.639544</td>\n",
       "      <td>Earth</td>\n",
       "      <td>1.020404</td>\n",
       "    </tr>\n",
       "    <tr>\n",
       "      <th>88</th>\n",
       "      <td>11.772918</td>\n",
       "      <td>8.351023</td>\n",
       "      <td>41.202699</td>\n",
       "      <td>0.709162</td>\n",
       "      <td>Saturn</td>\n",
       "      <td>58.788951</td>\n",
       "    </tr>\n",
       "    <tr>\n",
       "      <th>89</th>\n",
       "      <td>0.864693</td>\n",
       "      <td>1.021370</td>\n",
       "      <td>11.691876</td>\n",
       "      <td>5.275475</td>\n",
       "      <td>Earth</td>\n",
       "      <td>0.977581</td>\n",
       "    </tr>\n",
       "    <tr>\n",
       "      <th>90</th>\n",
       "      <td>28.300713</td>\n",
       "      <td>6.203063</td>\n",
       "      <td>24.128521</td>\n",
       "      <td>1.353425</td>\n",
       "      <td>Neptune</td>\n",
       "      <td>154.773339</td>\n",
       "    </tr>\n",
       "    <tr>\n",
       "      <th>91</th>\n",
       "      <td>1.583571</td>\n",
       "      <td>2.178258</td>\n",
       "      <td>5.218208</td>\n",
       "      <td>3.820485</td>\n",
       "      <td>Mars</td>\n",
       "      <td>1.954969</td>\n",
       "    </tr>\n",
       "    <tr>\n",
       "      <th>92</th>\n",
       "      <td>1.402158</td>\n",
       "      <td>1.834856</td>\n",
       "      <td>4.412937</td>\n",
       "      <td>3.358660</td>\n",
       "      <td>Mars</td>\n",
       "      <td>1.292017</td>\n",
       "    </tr>\n",
       "    <tr>\n",
       "      <th>93</th>\n",
       "      <td>5.231229</td>\n",
       "      <td>1.512151</td>\n",
       "      <td>60.934471</td>\n",
       "      <td>1.370006</td>\n",
       "      <td>Jupiter</td>\n",
       "      <td>20.097446</td>\n",
       "    </tr>\n",
       "    <tr>\n",
       "      <th>94</th>\n",
       "      <td>1.637769</td>\n",
       "      <td>1.764018</td>\n",
       "      <td>5.394849</td>\n",
       "      <td>4.028425</td>\n",
       "      <td>Mars</td>\n",
       "      <td>1.568119</td>\n",
       "    </tr>\n",
       "    <tr>\n",
       "      <th>95</th>\n",
       "      <td>0.674441</td>\n",
       "      <td>8.774166</td>\n",
       "      <td>10.102764</td>\n",
       "      <td>5.178577</td>\n",
       "      <td>Venus</td>\n",
       "      <td>0.656456</td>\n",
       "    </tr>\n",
       "    <tr>\n",
       "      <th>96</th>\n",
       "      <td>1.623235</td>\n",
       "      <td>1.648687</td>\n",
       "      <td>4.862391</td>\n",
       "      <td>3.659057</td>\n",
       "      <td>Mars</td>\n",
       "      <td>1.806597</td>\n",
       "    </tr>\n",
       "    <tr>\n",
       "      <th>97</th>\n",
       "      <td>0.407821</td>\n",
       "      <td>6.256683</td>\n",
       "      <td>4.689206</td>\n",
       "      <td>6.040462</td>\n",
       "      <td>Mercury</td>\n",
       "      <td>0.187354</td>\n",
       "    </tr>\n",
       "    <tr>\n",
       "      <th>98</th>\n",
       "      <td>0.356083</td>\n",
       "      <td>5.801142</td>\n",
       "      <td>4.616990</td>\n",
       "      <td>4.436684</td>\n",
       "      <td>Mercury</td>\n",
       "      <td>0.145837</td>\n",
       "    </tr>\n",
       "    <tr>\n",
       "      <th>99</th>\n",
       "      <td>1.375713</td>\n",
       "      <td>1.558749</td>\n",
       "      <td>5.215888</td>\n",
       "      <td>4.133983</td>\n",
       "      <td>Mars</td>\n",
       "      <td>3.081641</td>\n",
       "    </tr>\n",
       "  </tbody>\n",
       "</table>\n",
       "<p>100 rows × 6 columns</p>\n",
       "</div>"
      ],
      "text/plain": [
       "    SemiMajorAxis     Volume  EscapeVelocity   Density   planet  OrbitalPeriod\n",
       "0        0.662104  10.236030       10.892849  6.072644    Venus       0.448359\n",
       "1       11.721498   8.132345       34.080931  0.758931   Saturn      40.447949\n",
       "2        4.903094   1.538470       58.493158  1.281688  Jupiter      10.063035\n",
       "3        0.817968   8.532505       10.034185  6.129132    Venus       0.551544\n",
       "4       27.016293   7.106079       25.796580  2.108022  Neptune     225.690334\n",
       "5       24.645875   5.467985       24.884934  1.920847  Neptune     112.866058\n",
       "6        0.697118  10.022764       10.050127  4.778389    Venus       0.500145\n",
       "7       21.010415   7.157667       20.691601  1.347757   Uranus     179.595311\n",
       "8        1.703412   1.676122        5.537115  4.229687     Mars       2.718085\n",
       "9        6.130358   1.530082       58.528652  1.346489  Jupiter      16.136843\n",
       "10       4.337365   1.489463       68.098124  1.553818  Jupiter       8.933020\n",
       "11       0.882162   8.710400       10.258600  6.052999    Venus       0.857900\n",
       "12      17.834193   6.652499       20.615391  1.196303   Uranus      69.746891\n",
       "13       0.731478   9.624508        8.554682  4.995082    Venus       0.510987\n",
       "14       1.598929   1.431034        4.705471  3.254832     Mars       2.682124\n",
       "15      17.627012   6.254911       18.509679  1.106441   Uranus      85.803490\n",
       "16      24.564755   7.697770       28.760828  1.595442  Neptune     139.089017\n",
       "17       0.686305   7.526290       10.849397  5.903595    Venus       0.556752\n",
       "18       1.532849   1.441715        5.291881  3.806160     Mars       2.804616\n",
       "19       0.352937   6.716326        4.234435  5.452676  Mercury       0.139457\n",
       "20       8.694293   9.222608       27.037753  0.697545   Saturn      40.866546\n",
       "21       1.571067   1.774767        4.996399  4.938755     Mars       3.040992\n",
       "22      18.864200   6.871962       21.300086  1.144251   Uranus     108.243166\n",
       "23       0.752000   9.589921        9.165275  5.937520    Venus       0.440562\n",
       "24       0.994642   0.989517       11.464084  5.501019    Earth       1.077800\n",
       "25       1.388188   1.528773        5.894089  3.678096     Mars       1.286913\n",
       "26       0.820244   9.043799       10.323267  5.120582    Venus       0.663448\n",
       "27       1.080235   0.986554       12.392213  7.111330    Earth       0.936209\n",
       "28      33.329735   6.789229       22.780220  1.696616  Neptune      92.900011\n",
       "29       0.625310   7.892389       10.429899  5.660046    Venus       0.423936\n",
       "..            ...        ...             ...       ...      ...            ...\n",
       "70       1.132152   1.127208       10.636251  5.943694    Earth       1.260112\n",
       "71       1.013983   1.163556       12.467101  4.868668    Earth       1.304693\n",
       "72       0.458014   5.619139        4.660310  6.253456  Mercury       0.350366\n",
       "73       0.689652  11.253846       10.744646  5.649555    Venus       0.597758\n",
       "74       0.648608   9.349929       10.670331  5.967931    Venus       0.506373\n",
       "75      20.190051   7.161302       22.448691  1.356613   Uranus     111.984978\n",
       "76       0.935234   1.073521       12.317308  5.821099    Earth       1.235879\n",
       "77      20.395465   7.472122       25.767089  1.341207   Uranus      93.476289\n",
       "78       1.279298   1.571943        5.834037  3.490755     Mars       2.449191\n",
       "79       4.357281   1.793904       57.712025  1.376823  Jupiter       9.239023\n",
       "80       1.071415   1.267744       12.291750  4.909098    Earth       0.596652\n",
       "81       9.854131   6.802972       35.180209  0.686468   Saturn      27.678327\n",
       "82       0.421131   5.717695        4.168459  4.901396  Mercury       0.454166\n",
       "83       1.242451   1.626920        5.399757  4.486709     Mars       1.955648\n",
       "84       0.812820   7.815891       11.482139  5.269709    Venus       0.710168\n",
       "85      21.573840   6.149791       20.645935  1.230446   Uranus      85.842625\n",
       "86      33.261621   5.907100       25.596895  1.598030  Neptune     302.992769\n",
       "87       1.081816   1.136781       11.156044  5.639544    Earth       1.020404\n",
       "88      11.772918   8.351023       41.202699  0.709162   Saturn      58.788951\n",
       "89       0.864693   1.021370       11.691876  5.275475    Earth       0.977581\n",
       "90      28.300713   6.203063       24.128521  1.353425  Neptune     154.773339\n",
       "91       1.583571   2.178258        5.218208  3.820485     Mars       1.954969\n",
       "92       1.402158   1.834856        4.412937  3.358660     Mars       1.292017\n",
       "93       5.231229   1.512151       60.934471  1.370006  Jupiter      20.097446\n",
       "94       1.637769   1.764018        5.394849  4.028425     Mars       1.568119\n",
       "95       0.674441   8.774166       10.102764  5.178577    Venus       0.656456\n",
       "96       1.623235   1.648687        4.862391  3.659057     Mars       1.806597\n",
       "97       0.407821   6.256683        4.689206  6.040462  Mercury       0.187354\n",
       "98       0.356083   5.801142        4.616990  4.436684  Mercury       0.145837\n",
       "99       1.375713   1.558749        5.215888  4.133983     Mars       3.081641\n",
       "\n",
       "[100 rows x 6 columns]"
      ]
     },
     "execution_count": 85,
     "metadata": {},
     "output_type": "execute_result"
    }
   ],
   "source": [
    "#loading data\n",
    "kepler = pd.read_csv('Ex01_Kepler_Regression.csv')\n",
    "kepler"
   ]
  },
  {
   "cell_type": "code",
   "execution_count": 22,
   "metadata": {
    "collapsed": false,
    "deletable": true,
    "editable": true
   },
   "outputs": [
    {
     "data": {
      "text/html": [
       "<div>\n",
       "<table border=\"1\" class=\"dataframe\">\n",
       "  <thead>\n",
       "    <tr style=\"text-align: right;\">\n",
       "      <th></th>\n",
       "      <th>SemiMajorAxis</th>\n",
       "      <th>Volume</th>\n",
       "      <th>EscapeVelocity</th>\n",
       "      <th>Density</th>\n",
       "      <th>OrbitalPeriod</th>\n",
       "    </tr>\n",
       "  </thead>\n",
       "  <tbody>\n",
       "    <tr>\n",
       "      <th>SemiMajorAxis</th>\n",
       "      <td>1.000000</td>\n",
       "      <td>0.278926</td>\n",
       "      <td>0.323329</td>\n",
       "      <td>-0.716234</td>\n",
       "      <td>0.918149</td>\n",
       "    </tr>\n",
       "    <tr>\n",
       "      <th>Volume</th>\n",
       "      <td>0.278926</td>\n",
       "      <td>1.000000</td>\n",
       "      <td>-0.015625</td>\n",
       "      <td>-0.153851</td>\n",
       "      <td>0.229391</td>\n",
       "    </tr>\n",
       "    <tr>\n",
       "      <th>EscapeVelocity</th>\n",
       "      <td>0.323329</td>\n",
       "      <td>-0.015625</td>\n",
       "      <td>1.000000</td>\n",
       "      <td>-0.687354</td>\n",
       "      <td>0.225476</td>\n",
       "    </tr>\n",
       "    <tr>\n",
       "      <th>Density</th>\n",
       "      <td>-0.716234</td>\n",
       "      <td>-0.153851</td>\n",
       "      <td>-0.687354</td>\n",
       "      <td>1.000000</td>\n",
       "      <td>-0.565611</td>\n",
       "    </tr>\n",
       "    <tr>\n",
       "      <th>OrbitalPeriod</th>\n",
       "      <td>0.918149</td>\n",
       "      <td>0.229391</td>\n",
       "      <td>0.225476</td>\n",
       "      <td>-0.565611</td>\n",
       "      <td>1.000000</td>\n",
       "    </tr>\n",
       "  </tbody>\n",
       "</table>\n",
       "</div>"
      ],
      "text/plain": [
       "                SemiMajorAxis    Volume  EscapeVelocity   Density  \\\n",
       "SemiMajorAxis        1.000000  0.278926        0.323329 -0.716234   \n",
       "Volume               0.278926  1.000000       -0.015625 -0.153851   \n",
       "EscapeVelocity       0.323329 -0.015625        1.000000 -0.687354   \n",
       "Density             -0.716234 -0.153851       -0.687354  1.000000   \n",
       "OrbitalPeriod        0.918149  0.229391        0.225476 -0.565611   \n",
       "\n",
       "                OrbitalPeriod  \n",
       "SemiMajorAxis        0.918149  \n",
       "Volume               0.229391  \n",
       "EscapeVelocity       0.225476  \n",
       "Density             -0.565611  \n",
       "OrbitalPeriod        1.000000  "
      ]
     },
     "execution_count": 22,
     "metadata": {},
     "output_type": "execute_result"
    }
   ],
   "source": [
    "#correlation matrix\n",
    "correlation_matrix = kepler.corr()\n",
    "correlation_matrix"
   ]
  },
  {
   "cell_type": "code",
   "execution_count": 23,
   "metadata": {
    "collapsed": false,
    "deletable": true,
    "editable": true
   },
   "outputs": [
    {
     "data": {
      "image/png": "[encoded data removed]",
      "text/plain": [
       "<matplotlib.figure.Figure at 0x7f0a040b2e80>"
      ]
     },
     "metadata": {},
     "output_type": "display_data"
    },
    {
     "data": {
      "text/plain": [
       "<matplotlib.figure.Figure at 0x7f0a0408f0b8>"
      ]
     },
     "metadata": {},
     "output_type": "display_data"
    }
   ],
   "source": [
    "#heat map\n",
    "correlation_plot = sns.heatmap(correlation_matrix,\n",
    "            xticklabels = correlation_matrix.columns.values,\n",
    "            yticklabels = correlation_matrix.columns.values)\n",
    "for label in correlation_plot.xaxis.get_ticklabels():\n",
    "    label.set_rotation(90)\n",
    "plt.figure(figsize=(12,12))\n",
    "plt.show()\n"
   ]
  },
  {
   "cell_type": "code",
   "execution_count": 24,
   "metadata": {
    "collapsed": false,
    "deletable": true,
    "editable": true
   },
   "outputs": [
    {
     "data": {
      "image/png": "[encoded data removed]",
      "text/plain": [
       "<matplotlib.figure.Figure at 0x7f0a04a8a588>"
      ]
     },
     "metadata": {},
     "output_type": "display_data"
    }
   ],
   "source": [
    "#scatter matrix\n",
    "scatter_matrix(kepler, alpha=0.2, figsize=(10, 8), diagonal='kde')\n",
    "plt.xticks(())\n",
    "plt.yticks(())\n",
    "plt.show()"
   ]
  },
  {
   "cell_type": "code",
   "execution_count": 25,
   "metadata": {
    "collapsed": false,
    "deletable": true,
    "editable": true
   },
   "outputs": [
    {
     "name": "stdout",
     "output_type": "stream",
     "text": [
      "ALL FEATURES - \n",
      "\n",
      "RMSE Score Mean =  25.9456658951\n",
      "Intercept =  -46.4618313725\n",
      "Coefficeints =  [ 7.23062079 -1.16686158  0.18175063  8.63835196]\n",
      "Accuracy =  0.888101908045\n"
     ]
    }
   ],
   "source": [
    "#finding rmse using all features\n",
    "X = kepler.drop(['OrbitalPeriod','planet'], axis=1)\n",
    "Y = kepler.OrbitalPeriod\n",
    "X_train, X_test, Y_train, Y_test = train_test_split(X, Y, random_state=4, train_size=.80, test_size=.20)\n",
    "Linear_Model = LinearRegression()\n",
    "# Computing RMSE Score :-\n",
    "Score = cross_val_score(Linear_Model, X_train, Y_train, cv=10, scoring=\"neg_mean_squared_error\")\n",
    "MSE_Score = -Score\n",
    "RMSE_Score = np.sqrt(MSE_Score)\n",
    "RMSE_Score.mean()\n",
    "print(\"ALL FEATURES - \\n\\nRMSE Score Mean = \", RMSE_Score.mean())\n",
    "\n",
    "# Training Data into Linear Regression Model\n",
    "Linear_Model.fit(X_train, Y_train)\n",
    "\n",
    "# Intercept\n",
    "print(\"Intercept = \", Linear_Model.intercept_)\n",
    "\n",
    "# Coeffecients Obtained\n",
    "print(\"Coefficeints = \", Linear_Model.coef_)\n",
    "\n",
    "# Accuracy\n",
    "Accuracy = Linear_Model.score(X_test, Y_test)\n",
    "print(\"Accuracy = \", Accuracy)"
   ]
  },
  {
   "cell_type": "code",
   "execution_count": 26,
   "metadata": {
    "collapsed": false,
    "deletable": true,
    "editable": true
   },
   "outputs": [
    {
     "data": {
      "image/png": "[encoded data removed]",
      "text/plain": [
       "<matplotlib.figure.Figure at 0x7f0a04110390>"
      ]
     },
     "metadata": {},
     "output_type": "display_data"
    }
   ],
   "source": [
    "#box plot\n",
    "Residuals_allFeatures = np.array(Linear_Model.predict(X_test) - Y_test)\n",
    "plt.boxplot(Residuals_allFeatures)\n",
    "plt.show()"
   ]
  },
  {
   "cell_type": "code",
   "execution_count": 27,
   "metadata": {
    "collapsed": false,
    "deletable": true,
    "editable": true
   },
   "outputs": [
    {
     "data": {
      "image/png": "[encoded data removed]",
      "text/plain": [
       "<matplotlib.figure.Figure at 0x7f0a0409a710>"
      ]
     },
     "metadata": {},
     "output_type": "display_data"
    }
   ],
   "source": [
    "#scatter plot\n",
    "regr2 = Linear_Model\n",
    "regr2.fit(X_train, Y_train)\n",
    "plt.scatter(Linear_Model.predict(X_test),Y_test, color='r')\n",
    "plt.plot(Linear_Model.predict(X_test),Y_test, color='c',linewidth=0.4)\n",
    "plt.show()"
   ]
  },
  {
   "cell_type": "code",
   "execution_count": 28,
   "metadata": {
    "collapsed": false,
    "deletable": true,
    "editable": true
   },
   "outputs": [
    {
     "data": {
      "text/html": [
       "<table class=\"simpletable\">\n",
       "<caption>OLS Regression Results</caption>\n",
       "<tr>\n",
       "  <th>Dep. Variable:</th>      <td>OrbitalPeriod</td>  <th>  R-squared:         </th> <td>   0.856</td>\n",
       "</tr>\n",
       "<tr>\n",
       "  <th>Model:</th>                   <td>OLS</td>       <th>  Adj. R-squared:    </th> <td>   0.849</td>\n",
       "</tr>\n",
       "<tr>\n",
       "  <th>Method:</th>             <td>Least Squares</td>  <th>  F-statistic:       </th> <td>   111.7</td>\n",
       "</tr>\n",
       "<tr>\n",
       "  <th>Date:</th>             <td>Sun, 02 Apr 2017</td> <th>  Prob (F-statistic):</th> <td>8.47e-31</td>\n",
       "</tr>\n",
       "<tr>\n",
       "  <th>Time:</th>                 <td>01:15:00</td>     <th>  Log-Likelihood:    </th> <td> -372.21</td>\n",
       "</tr>\n",
       "<tr>\n",
       "  <th>No. Observations:</th>      <td>    80</td>      <th>  AIC:               </th> <td>   754.4</td>\n",
       "</tr>\n",
       "<tr>\n",
       "  <th>Df Residuals:</th>          <td>    75</td>      <th>  BIC:               </th> <td>   766.3</td>\n",
       "</tr>\n",
       "<tr>\n",
       "  <th>Df Model:</th>              <td>     4</td>      <th>                     </th>     <td> </td>   \n",
       "</tr>\n",
       "<tr>\n",
       "  <th>Covariance Type:</th>      <td>nonrobust</td>    <th>                     </th>     <td> </td>   \n",
       "</tr>\n",
       "</table>\n",
       "<table class=\"simpletable\">\n",
       "<tr>\n",
       "         <td></td>           <th>coef</th>     <th>std err</th>      <th>t</th>      <th>P>|t|</th>  <th>[0.025</th>    <th>0.975]</th>  \n",
       "</tr>\n",
       "<tr>\n",
       "  <th>Intercept</th>      <td>  -36.1402</td> <td>   17.786</td> <td>   -2.032</td> <td> 0.046</td> <td>  -71.572</td> <td>   -0.708</td>\n",
       "</tr>\n",
       "<tr>\n",
       "  <th>SemiMajorAxis</th>  <td>    6.6706</td> <td>    0.430</td> <td>   15.500</td> <td> 0.000</td> <td>    5.813</td> <td>    7.528</td>\n",
       "</tr>\n",
       "<tr>\n",
       "  <th>Volume</th>         <td>   -0.6238</td> <td>    0.967</td> <td>   -0.645</td> <td> 0.521</td> <td>   -2.551</td> <td>    1.303</td>\n",
       "</tr>\n",
       "<tr>\n",
       "  <th>EscapeVelocity</th> <td>    0.0629</td> <td>    0.273</td> <td>    0.230</td> <td> 0.818</td> <td>   -0.481</td> <td>    0.607</td>\n",
       "</tr>\n",
       "<tr>\n",
       "  <th>Density</th>        <td>    6.2383</td> <td>    2.790</td> <td>    2.236</td> <td> 0.028</td> <td>    0.680</td> <td>   11.797</td>\n",
       "</tr>\n",
       "</table>\n",
       "<table class=\"simpletable\">\n",
       "<tr>\n",
       "  <th>Omnibus:</th>       <td>24.175</td> <th>  Durbin-Watson:     </th> <td>   2.167</td>\n",
       "</tr>\n",
       "<tr>\n",
       "  <th>Prob(Omnibus):</th> <td> 0.000</td> <th>  Jarque-Bera (JB):  </th> <td> 152.559</td>\n",
       "</tr>\n",
       "<tr>\n",
       "  <th>Skew:</th>          <td> 0.508</td> <th>  Prob(JB):          </th> <td>7.45e-34</td>\n",
       "</tr>\n",
       "<tr>\n",
       "  <th>Kurtosis:</th>      <td> 9.689</td> <th>  Cond. No.          </th> <td>    170.</td>\n",
       "</tr>\n",
       "</table>"
      ],
      "text/plain": [
       "<class 'statsmodels.iolib.summary.Summary'>\n",
       "\"\"\"\n",
       "                            OLS Regression Results                            \n",
       "==============================================================================\n",
       "Dep. Variable:          OrbitalPeriod   R-squared:                       0.856\n",
       "Model:                            OLS   Adj. R-squared:                  0.849\n",
       "Method:                 Least Squares   F-statistic:                     111.7\n",
       "Date:                Sun, 02 Apr 2017   Prob (F-statistic):           8.47e-31\n",
       "Time:                        01:15:00   Log-Likelihood:                -372.21\n",
       "No. Observations:                  80   AIC:                             754.4\n",
       "Df Residuals:                      75   BIC:                             766.3\n",
       "Df Model:                           4                                         \n",
       "Covariance Type:            nonrobust                                         \n",
       "==================================================================================\n",
       "                     coef    std err          t      P>|t|      [0.025      0.975]\n",
       "----------------------------------------------------------------------------------\n",
       "Intercept        -36.1402     17.786     -2.032      0.046     -71.572      -0.708\n",
       "SemiMajorAxis      6.6706      0.430     15.500      0.000       5.813       7.528\n",
       "Volume            -0.6238      0.967     -0.645      0.521      -2.551       1.303\n",
       "EscapeVelocity     0.0629      0.273      0.230      0.818      -0.481       0.607\n",
       "Density            6.2383      2.790      2.236      0.028       0.680      11.797\n",
       "==============================================================================\n",
       "Omnibus:                       24.175   Durbin-Watson:                   2.167\n",
       "Prob(Omnibus):                  0.000   Jarque-Bera (JB):              152.559\n",
       "Skew:                           0.508   Prob(JB):                     7.45e-34\n",
       "Kurtosis:                       9.689   Cond. No.                         170.\n",
       "==============================================================================\n",
       "\n",
       "Warnings:\n",
       "[1] Standard Errors assume that the covariance matrix of the errors is correctly specified.\n",
       "\"\"\""
      ]
     },
     "execution_count": 28,
     "metadata": {},
     "output_type": "execute_result"
    }
   ],
   "source": [
    "#ols method\n",
    "model_all = sm.ols(formula=\"OrbitalPeriod ~ SemiMajorAxis + Volume + EscapeVelocity + Density\", data = kepler[0:80]).fit()\n",
    "model_all.summary()"
   ]
  },
  {
   "cell_type": "code",
   "execution_count": 29,
   "metadata": {
    "collapsed": false,
    "deletable": true,
    "editable": true
   },
   "outputs": [
    {
     "name": "stdout",
     "output_type": "stream",
     "text": [
      "SELECTED FEATURES (without semi major axis) - \n",
      "\n",
      "RMSE Score Mean =  5.7151175565e-14\n",
      "Intercept =  8.52651282912e-14\n",
      "Coefficeints =  [  1.63696323e-15  -4.44089210e-16  -1.78815296e-14   1.00000000e+00]\n",
      "Accuracy =  1.0\n"
     ]
    }
   ],
   "source": [
    "#finding rmse excluding semi major axis\n",
    "X_without_semimajor = kepler.drop(['SemiMajorAxis','planet'], axis=1)\n",
    "\n",
    "# Splitting into Testing and Training units\n",
    "X_train, X_test, Y_train, Y_test = train_test_split(X_without_semimajor, Y, random_state=4, train_size=.80, test_size=.20)\n",
    "# Computing RMSE Score :-\n",
    "Score = cross_val_score(Linear_Model, X_train, Y_train, cv=10, scoring=\"neg_mean_squared_error\")\n",
    "MSE_Score = -Score\n",
    "RMSE_Score = np.sqrt(MSE_Score)\n",
    "print(\"SELECTED FEATURES (without semi major axis) - \\n\\nRMSE Score Mean = \", RMSE_Score.mean())\n",
    "\n",
    "# Training Data into the model\n",
    "Linear_Model.fit(X_train, Y_train)\n",
    "\n",
    "# Intercept\n",
    "print(\"Intercept = \", Linear_Model.intercept_)\n",
    "\n",
    "# Coeffecients Obtained\n",
    "print(\"Coefficeints = \", Linear_Model.coef_)\n",
    "\n",
    "# Accuracy\n",
    "Accuracy = Linear_Model.score(X_test, Y_test)\n",
    "print(\"Accuracy = \", Accuracy)"
   ]
  },
  {
   "cell_type": "code",
   "execution_count": 30,
   "metadata": {
    "collapsed": false,
    "deletable": true,
    "editable": true
   },
   "outputs": [
    {
     "data": {
      "image/png": "[encoded data removed]",
      "text/plain": [
       "<matplotlib.figure.Figure at 0x7f0a04849dd8>"
      ]
     },
     "metadata": {},
     "output_type": "display_data"
    }
   ],
   "source": [
    "#box plot\n",
    "Residuals_without_semi_major_axis = np.array(Linear_Model.predict(X_test) - Y_test)\n",
    "plt.boxplot(Residuals_without_semi_major_axis)\n",
    "plt.show()"
   ]
  },
  {
   "cell_type": "code",
   "execution_count": 31,
   "metadata": {
    "collapsed": false,
    "deletable": true,
    "editable": true
   },
   "outputs": [
    {
     "data": {
      "image/png": "[encoded data removed]",
      "text/plain": [
       "<matplotlib.figure.Figure at 0x7f0a049446d8>"
      ]
     },
     "metadata": {},
     "output_type": "display_data"
    }
   ],
   "source": [
    "#scatter plot\n",
    "regr2 = Linear_Model\n",
    "regr2.fit(X_train, Y_train)\n",
    "plt.scatter(Linear_Model.predict(X_test),Y_test, color='r')\n",
    "plt.plot(Linear_Model.predict(X_test),Y_test, color='c',linewidth=0.4)\n",
    "plt.show()"
   ]
  },
  {
   "cell_type": "code",
   "execution_count": 32,
   "metadata": {
    "collapsed": false,
    "deletable": true,
    "editable": true
   },
   "outputs": [
    {
     "data": {
      "text/html": [
       "<table class=\"simpletable\">\n",
       "<caption>OLS Regression Results</caption>\n",
       "<tr>\n",
       "  <th>Dep. Variable:</th>      <td>OrbitalPeriod</td>  <th>  R-squared:         </th> <td>   0.396</td>\n",
       "</tr>\n",
       "<tr>\n",
       "  <th>Model:</th>                   <td>OLS</td>       <th>  Adj. R-squared:    </th> <td>   0.372</td>\n",
       "</tr>\n",
       "<tr>\n",
       "  <th>Method:</th>             <td>Least Squares</td>  <th>  F-statistic:       </th> <td>   16.60</td>\n",
       "</tr>\n",
       "<tr>\n",
       "  <th>Date:</th>             <td>Sun, 02 Apr 2017</td> <th>  Prob (F-statistic):</th> <td>2.17e-08</td>\n",
       "</tr>\n",
       "<tr>\n",
       "  <th>Time:</th>                 <td>01:15:03</td>     <th>  Log-Likelihood:    </th> <td> -429.64</td>\n",
       "</tr>\n",
       "<tr>\n",
       "  <th>No. Observations:</th>      <td>    80</td>      <th>  AIC:               </th> <td>   867.3</td>\n",
       "</tr>\n",
       "<tr>\n",
       "  <th>Df Residuals:</th>          <td>    76</td>      <th>  BIC:               </th> <td>   876.8</td>\n",
       "</tr>\n",
       "<tr>\n",
       "  <th>Df Model:</th>              <td>     3</td>      <th>                     </th>     <td> </td>   \n",
       "</tr>\n",
       "<tr>\n",
       "  <th>Covariance Type:</th>      <td>nonrobust</td>    <th>                     </th>     <td> </td>   \n",
       "</tr>\n",
       "</table>\n",
       "<table class=\"simpletable\">\n",
       "<tr>\n",
       "         <td></td>           <th>coef</th>     <th>std err</th>      <th>t</th>      <th>P>|t|</th>  <th>[0.025</th>    <th>0.975]</th>  \n",
       "</tr>\n",
       "<tr>\n",
       "  <th>Intercept</th>      <td>  144.5767</td> <td>   27.356</td> <td>    5.285</td> <td> 0.000</td> <td>   90.093</td> <td>  199.060</td>\n",
       "</tr>\n",
       "<tr>\n",
       "  <th>Volume</th>         <td>    1.5827</td> <td>    1.949</td> <td>    0.812</td> <td> 0.419</td> <td>   -2.298</td> <td>    5.464</td>\n",
       "</tr>\n",
       "<tr>\n",
       "  <th>EscapeVelocity</th> <td>   -1.4036</td> <td>    0.521</td> <td>   -2.692</td> <td> 0.009</td> <td>   -2.442</td> <td>   -0.365</td>\n",
       "</tr>\n",
       "<tr>\n",
       "  <th>Density</th>        <td>  -24.8102</td> <td>    3.956</td> <td>   -6.271</td> <td> 0.000</td> <td>  -32.690</td> <td>  -16.931</td>\n",
       "</tr>\n",
       "</table>\n",
       "<table class=\"simpletable\">\n",
       "<tr>\n",
       "  <th>Omnibus:</th>       <td>51.135</td> <th>  Durbin-Watson:     </th> <td>   1.941</td>\n",
       "</tr>\n",
       "<tr>\n",
       "  <th>Prob(Omnibus):</th> <td> 0.000</td> <th>  Jarque-Bera (JB):  </th> <td> 180.095</td>\n",
       "</tr>\n",
       "<tr>\n",
       "  <th>Skew:</th>          <td> 2.083</td> <th>  Prob(JB):          </th> <td>7.81e-40</td>\n",
       "</tr>\n",
       "<tr>\n",
       "  <th>Kurtosis:</th>      <td> 9.056</td> <th>  Cond. No.          </th> <td>    120.</td>\n",
       "</tr>\n",
       "</table>"
      ],
      "text/plain": [
       "<class 'statsmodels.iolib.summary.Summary'>\n",
       "\"\"\"\n",
       "                            OLS Regression Results                            \n",
       "==============================================================================\n",
       "Dep. Variable:          OrbitalPeriod   R-squared:                       0.396\n",
       "Model:                            OLS   Adj. R-squared:                  0.372\n",
       "Method:                 Least Squares   F-statistic:                     16.60\n",
       "Date:                Sun, 02 Apr 2017   Prob (F-statistic):           2.17e-08\n",
       "Time:                        01:15:03   Log-Likelihood:                -429.64\n",
       "No. Observations:                  80   AIC:                             867.3\n",
       "Df Residuals:                      76   BIC:                             876.8\n",
       "Df Model:                           3                                         \n",
       "Covariance Type:            nonrobust                                         \n",
       "==================================================================================\n",
       "                     coef    std err          t      P>|t|      [0.025      0.975]\n",
       "----------------------------------------------------------------------------------\n",
       "Intercept        144.5767     27.356      5.285      0.000      90.093     199.060\n",
       "Volume             1.5827      1.949      0.812      0.419      -2.298       5.464\n",
       "EscapeVelocity    -1.4036      0.521     -2.692      0.009      -2.442      -0.365\n",
       "Density          -24.8102      3.956     -6.271      0.000     -32.690     -16.931\n",
       "==============================================================================\n",
       "Omnibus:                       51.135   Durbin-Watson:                   1.941\n",
       "Prob(Omnibus):                  0.000   Jarque-Bera (JB):              180.095\n",
       "Skew:                           2.083   Prob(JB):                     7.81e-40\n",
       "Kurtosis:                       9.056   Cond. No.                         120.\n",
       "==============================================================================\n",
       "\n",
       "Warnings:\n",
       "[1] Standard Errors assume that the covariance matrix of the errors is correctly specified.\n",
       "\"\"\""
      ]
     },
     "execution_count": 32,
     "metadata": {},
     "output_type": "execute_result"
    }
   ],
   "source": [
    "#ols\n",
    "model_without_semi_major = sm.ols(formula=\"OrbitalPeriod ~ Volume + EscapeVelocity + Density\", data = kepler[0:80]).fit()\n",
    "model_without_semi_major.summary()"
   ]
  },
  {
   "cell_type": "code",
   "execution_count": 33,
   "metadata": {
    "collapsed": false,
    "deletable": true,
    "editable": true
   },
   "outputs": [
    {
     "name": "stdout",
     "output_type": "stream",
     "text": [
      "SELECTED FEATURES (with semi major axis) - \n",
      "\n",
      "RMSE Score Mean =  1.92436553875e-14\n",
      "Intercept =  -1.42108547152e-14\n",
      "Coefficeints =  [  1.89851989e-15   1.00000000e+00]\n",
      "Accuracy =  1.0\n"
     ]
    }
   ],
   "source": [
    "#finding rmse using only semi major axis as feature\n",
    "X_with_semimajor = kepler.drop(['Volume','EscapeVelocity','Density','planet'], axis=1)\n",
    "\n",
    "# Splitting into Testing and Training units\n",
    "X_train, X_test, Y_train, Y_test = train_test_split(X_with_semimajor, Y, random_state=4, train_size=.80, test_size=.20)\n",
    "Score = cross_val_score(Linear_Model, X_train, Y_train, cv=10, scoring=\"neg_mean_squared_error\")\n",
    "MSE_Score = -Score\n",
    "RMSE_Score = np.sqrt(MSE_Score)\n",
    "print(\"SELECTED FEATURES (with semi major axis) - \\n\\nRMSE Score Mean = \", RMSE_Score.mean())\n",
    "\n",
    "# Training Data into the model\n",
    "Linear_Model.fit(X_train, Y_train)\n",
    "\n",
    "# Intercept\n",
    "print(\"Intercept = \", Linear_Model.intercept_)\n",
    "\n",
    "# Coeffecients Obtained\n",
    "print(\"Coefficeints = \", Linear_Model.coef_)\n",
    "\n",
    "# Accuracy\n",
    "Accuracy = Linear_Model.score(X_test, Y_test)\n",
    "print(\"Accuracy = \", Accuracy)"
   ]
  },
  {
   "cell_type": "code",
   "execution_count": 34,
   "metadata": {
    "collapsed": false,
    "deletable": true,
    "editable": true
   },
   "outputs": [
    {
     "data": {
      "image/png": "[encoded data removed]",
      "text/plain": [
       "<matplotlib.figure.Figure at 0x7f0a04115ac8>"
      ]
     },
     "metadata": {},
     "output_type": "display_data"
    }
   ],
   "source": [
    "#boxplot\n",
    "Residuals_semi_major = np.array(Linear_Model.predict(X_test) - Y_test)\n",
    "plt.boxplot(Residuals_semi_major)\n",
    "plt.show()"
   ]
  },
  {
   "cell_type": "code",
   "execution_count": 35,
   "metadata": {
    "collapsed": false,
    "deletable": true,
    "editable": true
   },
   "outputs": [
    {
     "data": {
      "image/png": "[encoded data removed]",
      "text/plain": [
       "<matplotlib.figure.Figure at 0x7f0a042e8b00>"
      ]
     },
     "metadata": {},
     "output_type": "display_data"
    }
   ],
   "source": [
    "#scatter plot\n",
    "regr2 = Linear_Model\n",
    "regr2.fit(X_train, Y_train)\n",
    "plt.scatter(Linear_Model.predict(X_test),Y_test, color='r')\n",
    "plt.plot(Linear_Model.predict(X_test),Y_test, color='c',linewidth=0.4)\n",
    "plt.show()"
   ]
  },
  {
   "cell_type": "code",
   "execution_count": 36,
   "metadata": {
    "collapsed": false,
    "deletable": true,
    "editable": true
   },
   "outputs": [
    {
     "data": {
      "text/html": [
       "<table class=\"simpletable\">\n",
       "<caption>OLS Regression Results</caption>\n",
       "<tr>\n",
       "  <th>Dep. Variable:</th>      <td>OrbitalPeriod</td>  <th>  R-squared:         </th> <td>   0.839</td>\n",
       "</tr>\n",
       "<tr>\n",
       "  <th>Model:</th>                   <td>OLS</td>       <th>  Adj. R-squared:    </th> <td>   0.837</td>\n",
       "</tr>\n",
       "<tr>\n",
       "  <th>Method:</th>             <td>Least Squares</td>  <th>  F-statistic:       </th> <td>   407.9</td>\n",
       "</tr>\n",
       "<tr>\n",
       "  <th>Date:</th>             <td>Sun, 02 Apr 2017</td> <th>  Prob (F-statistic):</th> <td>1.02e-32</td>\n",
       "</tr>\n",
       "<tr>\n",
       "  <th>Time:</th>                 <td>01:16:50</td>     <th>  Log-Likelihood:    </th> <td> -376.63</td>\n",
       "</tr>\n",
       "<tr>\n",
       "  <th>No. Observations:</th>      <td>    80</td>      <th>  AIC:               </th> <td>   757.3</td>\n",
       "</tr>\n",
       "<tr>\n",
       "  <th>Df Residuals:</th>          <td>    78</td>      <th>  BIC:               </th> <td>   762.0</td>\n",
       "</tr>\n",
       "<tr>\n",
       "  <th>Df Model:</th>              <td>     1</td>      <th>                     </th>     <td> </td>   \n",
       "</tr>\n",
       "<tr>\n",
       "  <th>Covariance Type:</th>      <td>nonrobust</td>    <th>                     </th>     <td> </td>   \n",
       "</tr>\n",
       "</table>\n",
       "<table class=\"simpletable\">\n",
       "<tr>\n",
       "        <td></td>           <th>coef</th>     <th>std err</th>      <th>t</th>      <th>P>|t|</th>  <th>[0.025</th>    <th>0.975]</th>  \n",
       "</tr>\n",
       "<tr>\n",
       "  <th>Intercept</th>     <td>   -9.4309</td> <td>    3.995</td> <td>   -2.361</td> <td> 0.021</td> <td>  -17.385</td> <td>   -1.477</td>\n",
       "</tr>\n",
       "<tr>\n",
       "  <th>SemiMajorAxis</th> <td>    5.7676</td> <td>    0.286</td> <td>   20.196</td> <td> 0.000</td> <td>    5.199</td> <td>    6.336</td>\n",
       "</tr>\n",
       "</table>\n",
       "<table class=\"simpletable\">\n",
       "<tr>\n",
       "  <th>Omnibus:</th>       <td>32.642</td> <th>  Durbin-Watson:     </th> <td>   2.190</td>\n",
       "</tr>\n",
       "<tr>\n",
       "  <th>Prob(Omnibus):</th> <td> 0.000</td> <th>  Jarque-Bera (JB):  </th> <td> 140.607</td>\n",
       "</tr>\n",
       "<tr>\n",
       "  <th>Skew:</th>          <td> 1.092</td> <th>  Prob(JB):          </th> <td>2.93e-31</td>\n",
       "</tr>\n",
       "<tr>\n",
       "  <th>Kurtosis:</th>      <td> 9.117</td> <th>  Cond. No.          </th> <td>    18.4</td>\n",
       "</tr>\n",
       "</table>"
      ],
      "text/plain": [
       "<class 'statsmodels.iolib.summary.Summary'>\n",
       "\"\"\"\n",
       "                            OLS Regression Results                            \n",
       "==============================================================================\n",
       "Dep. Variable:          OrbitalPeriod   R-squared:                       0.839\n",
       "Model:                            OLS   Adj. R-squared:                  0.837\n",
       "Method:                 Least Squares   F-statistic:                     407.9\n",
       "Date:                Sun, 02 Apr 2017   Prob (F-statistic):           1.02e-32\n",
       "Time:                        01:16:50   Log-Likelihood:                -376.63\n",
       "No. Observations:                  80   AIC:                             757.3\n",
       "Df Residuals:                      78   BIC:                             762.0\n",
       "Df Model:                           1                                         \n",
       "Covariance Type:            nonrobust                                         \n",
       "=================================================================================\n",
       "                    coef    std err          t      P>|t|      [0.025      0.975]\n",
       "---------------------------------------------------------------------------------\n",
       "Intercept        -9.4309      3.995     -2.361      0.021     -17.385      -1.477\n",
       "SemiMajorAxis     5.7676      0.286     20.196      0.000       5.199       6.336\n",
       "==============================================================================\n",
       "Omnibus:                       32.642   Durbin-Watson:                   2.190\n",
       "Prob(Omnibus):                  0.000   Jarque-Bera (JB):              140.607\n",
       "Skew:                           1.092   Prob(JB):                     2.93e-31\n",
       "Kurtosis:                       9.117   Cond. No.                         18.4\n",
       "==============================================================================\n",
       "\n",
       "Warnings:\n",
       "[1] Standard Errors assume that the covariance matrix of the errors is correctly specified.\n",
       "\"\"\""
      ]
     },
     "execution_count": 36,
     "metadata": {},
     "output_type": "execute_result"
    }
   ],
   "source": [
    "#ols\n",
    "model_with_semi_major = sm.ols(formula=\"OrbitalPeriod ~ SemiMajorAxis\", data = kepler[0:80]).fit()\n",
    "model_with_semi_major.summary()"
   ]
  },
  {
   "cell_type": "code",
   "execution_count": null,
   "metadata": {
    "collapsed": true,
    "deletable": true,
    "editable": true
   },
   "outputs": [],
   "source": [
    "Inference: By choosing different features and calculating rmse,we get least rmse value when we select only semiMajorAxis \n",
    "and also the plot between predicted and obseved is linear(y=x).We can apply log on both sides of this model and\n",
    "check whether linear relation exists for log(orbital period) and log(semiMajorAxis)"
   ]
  },
  {
   "cell_type": "code",
   "execution_count": 40,
   "metadata": {
    "collapsed": false,
    "deletable": true,
    "editable": true
   },
   "outputs": [
    {
     "data": {
      "text/html": [
       "<table class=\"simpletable\">\n",
       "<caption>OLS Regression Results</caption>\n",
       "<tr>\n",
       "  <th>Dep. Variable:</th>    <td>np.log(OrbitalPeriod)</td> <th>  R-squared:         </th> <td>   0.985</td>\n",
       "</tr>\n",
       "<tr>\n",
       "  <th>Model:</th>                     <td>OLS</td>          <th>  Adj. R-squared:    </th> <td>   0.985</td>\n",
       "</tr>\n",
       "<tr>\n",
       "  <th>Method:</th>               <td>Least Squares</td>     <th>  F-statistic:       </th> <td>   5023.</td>\n",
       "</tr>\n",
       "<tr>\n",
       "  <th>Date:</th>               <td>Sun, 02 Apr 2017</td>    <th>  Prob (F-statistic):</th> <td>1.42e-72</td>\n",
       "</tr>\n",
       "<tr>\n",
       "  <th>Time:</th>                   <td>01:19:20</td>        <th>  Log-Likelihood:    </th> <td> -13.910</td>\n",
       "</tr>\n",
       "<tr>\n",
       "  <th>No. Observations:</th>        <td>    80</td>         <th>  AIC:               </th> <td>   31.82</td>\n",
       "</tr>\n",
       "<tr>\n",
       "  <th>Df Residuals:</th>            <td>    78</td>         <th>  BIC:               </th> <td>   36.58</td>\n",
       "</tr>\n",
       "<tr>\n",
       "  <th>Df Model:</th>                <td>     1</td>         <th>                     </th>     <td> </td>   \n",
       "</tr>\n",
       "<tr>\n",
       "  <th>Covariance Type:</th>        <td>nonrobust</td>       <th>                     </th>     <td> </td>   \n",
       "</tr>\n",
       "</table>\n",
       "<table class=\"simpletable\">\n",
       "<tr>\n",
       "            <td></td>               <th>coef</th>     <th>std err</th>      <th>t</th>      <th>P>|t|</th>  <th>[0.025</th>    <th>0.975]</th>  \n",
       "</tr>\n",
       "<tr>\n",
       "  <th>Intercept</th>             <td>    0.0186</td> <td>    0.042</td> <td>    0.447</td> <td> 0.656</td> <td>   -0.064</td> <td>    0.101</td>\n",
       "</tr>\n",
       "<tr>\n",
       "  <th>np.log(SemiMajorAxis)</th> <td>    1.4993</td> <td>    0.021</td> <td>   70.870</td> <td> 0.000</td> <td>    1.457</td> <td>    1.541</td>\n",
       "</tr>\n",
       "</table>\n",
       "<table class=\"simpletable\">\n",
       "<tr>\n",
       "  <th>Omnibus:</th>       <td> 0.458</td> <th>  Durbin-Watson:     </th> <td>   2.189</td>\n",
       "</tr>\n",
       "<tr>\n",
       "  <th>Prob(Omnibus):</th> <td> 0.795</td> <th>  Jarque-Bera (JB):  </th> <td>   0.607</td>\n",
       "</tr>\n",
       "<tr>\n",
       "  <th>Skew:</th>          <td> 0.064</td> <th>  Prob(JB):          </th> <td>   0.738</td>\n",
       "</tr>\n",
       "<tr>\n",
       "  <th>Kurtosis:</th>      <td> 2.593</td> <th>  Cond. No.          </th> <td>    2.80</td>\n",
       "</tr>\n",
       "</table>"
      ],
      "text/plain": [
       "<class 'statsmodels.iolib.summary.Summary'>\n",
       "\"\"\"\n",
       "                              OLS Regression Results                             \n",
       "=================================================================================\n",
       "Dep. Variable:     np.log(OrbitalPeriod)   R-squared:                       0.985\n",
       "Model:                               OLS   Adj. R-squared:                  0.985\n",
       "Method:                    Least Squares   F-statistic:                     5023.\n",
       "Date:                   Sun, 02 Apr 2017   Prob (F-statistic):           1.42e-72\n",
       "Time:                           01:19:20   Log-Likelihood:                -13.910\n",
       "No. Observations:                     80   AIC:                             31.82\n",
       "Df Residuals:                         78   BIC:                             36.58\n",
       "Df Model:                              1                                         \n",
       "Covariance Type:               nonrobust                                         \n",
       "=========================================================================================\n",
       "                            coef    std err          t      P>|t|      [0.025      0.975]\n",
       "-----------------------------------------------------------------------------------------\n",
       "Intercept                 0.0186      0.042      0.447      0.656      -0.064       0.101\n",
       "np.log(SemiMajorAxis)     1.4993      0.021     70.870      0.000       1.457       1.541\n",
       "==============================================================================\n",
       "Omnibus:                        0.458   Durbin-Watson:                   2.189\n",
       "Prob(Omnibus):                  0.795   Jarque-Bera (JB):                0.607\n",
       "Skew:                           0.064   Prob(JB):                        0.738\n",
       "Kurtosis:                       2.593   Cond. No.                         2.80\n",
       "==============================================================================\n",
       "\n",
       "Warnings:\n",
       "[1] Standard Errors assume that the covariance matrix of the errors is correctly specified.\n",
       "\"\"\""
      ]
     },
     "execution_count": 40,
     "metadata": {},
     "output_type": "execute_result"
    }
   ],
   "source": [
    "#ols for log(orbital period) and log(semiMajorAxis)\n",
    "model_log = sm.ols(formula= \"np.log(OrbitalPeriod) ~ np.log(SemiMajorAxis)\", data = kepler[:80]).fit()\n",
    "model_log.summary()"
   ]
  },
  {
   "cell_type": "code",
   "execution_count": 45,
   "metadata": {
    "collapsed": false,
    "deletable": true,
    "editable": true
   },
   "outputs": [
    {
     "name": "stdout",
     "output_type": "stream",
     "text": [
      "SELECTED FEATURES (with semi major axis) - \n",
      "\n",
      "RMSE Score Mean =  5.94867359926e-16\n",
      "Intercept =  -1.42108547152e-14\n",
      "Coefficeints =  [  1.89851989e-15   1.00000000e+00]\n",
      "Accuracy =  1.0\n"
     ]
    }
   ],
   "source": [
    "#finding rmse for this\n",
    "x_train = np.log(X_train)\n",
    "y_train = np.log(Y_train)\n",
    "x_test = np.log(X_test)\n",
    "y_test = np.log(Y_test)\n",
    "\n",
    "Score = cross_val_score(Linear_Model, x_train, y_train, cv=10, scoring=\"neg_mean_squared_error\")\n",
    "MSE_Score = -Score\n",
    "RMSE_Score = np.sqrt(MSE_Score)\n",
    "print(\"SELECTED FEATURES (with semi major axis) - \\n\\nRMSE Score Mean = \", RMSE_Score.mean())\n",
    "\n",
    "# Training Data into the model\n",
    "Linear_Model.fit(X_train, Y_train)\n",
    "\n",
    "# Intercept\n",
    "print(\"Intercept = \", Linear_Model.intercept_)\n",
    "\n",
    "# Coeffecients Obtained\n",
    "print(\"Coefficeints = \", Linear_Model.coef_)\n",
    "\n",
    "# Accuracy\n",
    "Accuracy = Linear_Model.score(X_test, Y_test)\n",
    "print(\"Accuracy = \", Accuracy)"
   ]
  },
  {
   "cell_type": "code",
   "execution_count": 46,
   "metadata": {
    "collapsed": false,
    "deletable": true,
    "editable": true
   },
   "outputs": [
    {
     "data": {
      "image/png": "[encoded data removed]",
      "text/plain": [
       "<matplotlib.figure.Figure at 0x7f0a048ed748>"
      ]
     },
     "metadata": {},
     "output_type": "display_data"
    }
   ],
   "source": [
    "#scatter plot\n",
    "regr2 = Linear_Model\n",
    "regr2.fit(x_train, y_train)\n",
    "plt.scatter(Linear_Model.predict(X_test),Y_test, color='r')\n",
    "plt.plot(Linear_Model.predict(X_test),Y_test, color='c',linewidth=0.4)\n",
    "plt.show()"
   ]
  },
  {
   "cell_type": "code",
   "execution_count": 48,
   "metadata": {
    "collapsed": false,
    "deletable": true,
    "editable": true
   },
   "outputs": [
    {
     "data": {
      "image/png": "[encoded data removed]",
      "text/plain": [
       "<matplotlib.figure.Figure at 0x7f0a04556588>"
      ]
     },
     "metadata": {},
     "output_type": "display_data"
    }
   ],
   "source": [
    "#boxplot\n",
    "Residuals_semi_major_log = np.array(Linear_Model.predict(x_test) - y_test)\n",
    "plt.boxplot(Residuals_semi_major)\n",
    "plt.show()"
   ]
  },
  {
   "cell_type": "code",
   "execution_count": 50,
   "metadata": {
    "collapsed": false,
    "deletable": true,
    "editable": true
   },
   "outputs": [
    {
     "data": {
      "image/png": "[encoded data removed]",
      "text/plain": [
       "<matplotlib.figure.Figure at 0x7f0a0457c400>"
      ]
     },
     "metadata": {},
     "output_type": "display_data"
    }
   ],
   "source": [
    "#histogram\n",
    "plt.hist(Residuals_semi_major_log, bins=10)\n",
    "plt.show()"
   ]
  },
  {
   "cell_type": "code",
   "execution_count": 51,
   "metadata": {
    "collapsed": false,
    "deletable": true,
    "editable": true
   },
   "outputs": [
    {
     "data": {
      "text/plain": [
       "[('F statistics', 0.82795920453327654), ('p_value', 0.71825091897191184)]"
      ]
     },
     "execution_count": 51,
     "metadata": {},
     "output_type": "execute_result"
    }
   ],
   "source": [
    "#p value for hypothesis testing\n",
    "name = ['F statistics', 'p_value']\n",
    "test = sms.het_goldfeldquandt(model_log.resid, model_log.model.exog)\n",
    "list(zip(name,test))"
   ]
  },
  {
   "cell_type": "markdown",
   "metadata": {
    "deletable": true,
    "editable": true
   },
   "source": [
    "Ridge regression"
   ]
  },
  {
   "cell_type": "code",
   "execution_count": 52,
   "metadata": {
    "collapsed": true,
    "deletable": true,
    "editable": true
   },
   "outputs": [],
   "source": [
    "alphas = 10**np.linspace(10,-2,100)*0.5"
   ]
  },
  {
   "cell_type": "markdown",
   "metadata": {
    "deletable": true,
    "editable": true
   },
   "source": [
    "Ridge regression1"
   ]
  },
  {
   "cell_type": "code",
   "execution_count": 53,
   "metadata": {
    "collapsed": true,
    "deletable": true,
    "editable": true
   },
   "outputs": [],
   "source": [
    "ridge = Ridge(normalize=True)\n",
    "\n",
    "coefs = [] \n",
    "\n",
    "# Fitting X and Y for each value of alpha using a loop statment\n",
    "for a in alphas:\n",
    "    ridge.set_params(alpha = a)\n",
    "    ridge.fit(X, Y)\n",
    "    coefs.append(ridge.coef_)"
   ]
  },
  {
   "cell_type": "markdown",
   "metadata": {
    "deletable": true,
    "editable": true
   },
   "source": [
    "Preparing a dataframe"
   ]
  },
  {
   "cell_type": "code",
   "execution_count": 54,
   "metadata": {
    "collapsed": false,
    "deletable": true,
    "editable": true
   },
   "outputs": [
    {
     "data": {
      "text/html": [
       "<div>\n",
       "<table border=\"1\" class=\"dataframe\">\n",
       "  <thead>\n",
       "    <tr style=\"text-align: right;\">\n",
       "      <th></th>\n",
       "      <th>SemiMajorAxis</th>\n",
       "      <th>Volume</th>\n",
       "      <th>EscapeVelocity</th>\n",
       "      <th>Density</th>\n",
       "      <th>Alpha</th>\n",
       "    </tr>\n",
       "  </thead>\n",
       "  <tbody>\n",
       "    <tr>\n",
       "      <th>0</th>\n",
       "      <td>1.191606e-09</td>\n",
       "      <td>9.960673e-10</td>\n",
       "      <td>1.941957e-10</td>\n",
       "      <td>-3.775194e-09</td>\n",
       "      <td>5.000000e+09</td>\n",
       "    </tr>\n",
       "    <tr>\n",
       "      <th>1</th>\n",
       "      <td>1.575233e-09</td>\n",
       "      <td>1.316742e-09</td>\n",
       "      <td>2.567153e-10</td>\n",
       "      <td>-4.990584e-09</td>\n",
       "      <td>3.782317e+09</td>\n",
       "    </tr>\n",
       "    <tr>\n",
       "      <th>2</th>\n",
       "      <td>2.082365e-09</td>\n",
       "      <td>1.740656e-09</td>\n",
       "      <td>3.393626e-10</td>\n",
       "      <td>-6.597259e-09</td>\n",
       "      <td>2.861184e+09</td>\n",
       "    </tr>\n",
       "    <tr>\n",
       "      <th>3</th>\n",
       "      <td>2.752764e-09</td>\n",
       "      <td>2.301045e-09</td>\n",
       "      <td>4.486173e-10</td>\n",
       "      <td>-8.721188e-09</td>\n",
       "      <td>2.164381e+09</td>\n",
       "    </tr>\n",
       "    <tr>\n",
       "      <th>4</th>\n",
       "      <td>3.638992e-09</td>\n",
       "      <td>3.041846e-09</td>\n",
       "      <td>5.930457e-10</td>\n",
       "      <td>-1.152890e-08</td>\n",
       "      <td>1.637275e+09</td>\n",
       "    </tr>\n",
       "  </tbody>\n",
       "</table>\n",
       "</div>"
      ],
      "text/plain": [
       "   SemiMajorAxis        Volume  EscapeVelocity       Density         Alpha\n",
       "0   1.191606e-09  9.960673e-10    1.941957e-10 -3.775194e-09  5.000000e+09\n",
       "1   1.575233e-09  1.316742e-09    2.567153e-10 -4.990584e-09  3.782317e+09\n",
       "2   2.082365e-09  1.740656e-09    3.393626e-10 -6.597259e-09  2.861184e+09\n",
       "3   2.752764e-09  2.301045e-09    4.486173e-10 -8.721188e-09  2.164381e+09\n",
       "4   3.638992e-09  3.041846e-09    5.930457e-10 -1.152890e-08  1.637275e+09"
      ]
     },
     "execution_count": 54,
     "metadata": {},
     "output_type": "execute_result"
    }
   ],
   "source": [
    "coefs_df = pd.DataFrame(coefs, columns=X.columns.values) \n",
    "coefs_df['Alpha'] = pd.DataFrame(alphas)\n",
    "\n",
    "coefs_df.head()"
   ]
  },
  {
   "cell_type": "markdown",
   "metadata": {
    "deletable": true,
    "editable": true
   },
   "source": [
    "Plot for ridge regression"
   ]
  },
  {
   "cell_type": "code",
   "execution_count": 57,
   "metadata": {
    "collapsed": false,
    "deletable": true,
    "editable": true
   },
   "outputs": [
    {
     "data": {
      "image/png": "[encoded data removed]",
      "text/plain": [
       "<matplotlib.figure.Figure at 0x7f0a047b9dd8>"
      ]
     },
     "metadata": {},
     "output_type": "display_data"
    }
   ],
   "source": [
    "# Plotting Graphs -\n",
    "ax = plt.gca()  # to get the instance of plot\n",
    "ax.plot(alphas, coefs)\n",
    "ax.set_xscale('log')   # need on log scale because of huge variation in alpha\n",
    "plt.axis('tight')      # Just holds the position of \n",
    "plt.xlabel('alpha')\n",
    "plt.ylabel('weights')\n",
    "plt.show()"
   ]
  },
  {
   "cell_type": "markdown",
   "metadata": {
    "deletable": true,
    "editable": true
   },
   "source": [
    "Using cross-validation for ridge regression"
   ]
  },
  {
   "cell_type": "code",
   "execution_count": 58,
   "metadata": {
    "collapsed": true,
    "deletable": true,
    "editable": true
   },
   "outputs": [],
   "source": [
    "X_train, X_test, Y_train, Y_test = cross_validation.train_test_split(X, Y, test_size=0.5, random_state=1)"
   ]
  },
  {
   "cell_type": "markdown",
   "metadata": {
    "deletable": true,
    "editable": true
   },
   "source": [
    "Ridge regression2"
   ]
  },
  {
   "cell_type": "code",
   "execution_count": 60,
   "metadata": {
    "collapsed": false,
    "deletable": true,
    "editable": true
   },
   "outputs": [
    {
     "data": {
      "text/plain": [
       "Ridge(alpha=10, copy_X=True, fit_intercept=True, max_iter=None,\n",
       "   normalize=True, random_state=None, solver='auto', tol=0.001)"
      ]
     },
     "execution_count": 60,
     "metadata": {},
     "output_type": "execute_result"
    }
   ],
   "source": [
    "# Fitting into Ridge Model using specific value of alpha = 10\n",
    "ridge2 = Ridge(alpha=10, normalize=True)\n",
    "ridge2.fit(X_train, Y_train)"
   ]
  },
  {
   "cell_type": "code",
   "execution_count": 61,
   "metadata": {
    "collapsed": false,
    "deletable": true,
    "editable": true
   },
   "outputs": [
    {
     "name": "stdout",
     "output_type": "stream",
     "text": [
      "SemiMajorAxis     0.514016\n",
      "Volume            0.565223\n",
      "EscapeVelocity    0.123257\n",
      "Density          -1.892942\n",
      "dtype: float64\n",
      "3418.73036051\n"
     ]
    }
   ],
   "source": [
    "# Getting Predictions for Ridge(Test) as compared with the Ridge(Training)\n",
    "pred2 = ridge2.predict(X_test)\n",
    "\n",
    "print(pd.Series(ridge2.coef_, index=X.columns))\n",
    "print(mean_squared_error(Y_test, pred2))"
   ]
  },
  {
   "cell_type": "markdown",
   "metadata": {
    "deletable": true,
    "editable": true
   },
   "source": [
    "Ridge Regression3"
   ]
  },
  {
   "cell_type": "code",
   "execution_count": 62,
   "metadata": {
    "collapsed": false,
    "deletable": true,
    "editable": true
   },
   "outputs": [
    {
     "name": "stderr",
     "output_type": "stream",
     "text": [
      "/home/user/ml_assgn/lib/python3.5/site-packages/sklearn/metrics/scorer.py:90: DeprecationWarning:\n",
      "\n",
      "Scoring method mean_squared_error was renamed to neg_mean_squared_error in version 0.18 and will be removed in 0.20.\n",
      "\n",
      "/home/user/ml_assgn/lib/python3.5/site-packages/sklearn/metrics/scorer.py:90: DeprecationWarning:\n",
      "\n",
      "Scoring method mean_squared_error was renamed to neg_mean_squared_error in version 0.18 and will be removed in 0.20.\n",
      "\n",
      "/home/user/ml_assgn/lib/python3.5/site-packages/sklearn/metrics/scorer.py:90: DeprecationWarning:\n",
      "\n",
      "Scoring method mean_squared_error was renamed to neg_mean_squared_error in version 0.18 and will be removed in 0.20.\n",
      "\n",
      "/home/user/ml_assgn/lib/python3.5/site-packages/sklearn/metrics/scorer.py:90: DeprecationWarning:\n",
      "\n",
      "Scoring method mean_squared_error was renamed to neg_mean_squared_error in version 0.18 and will be removed in 0.20.\n",
      "\n",
      "/home/user/ml_assgn/lib/python3.5/site-packages/sklearn/metrics/scorer.py:90: DeprecationWarning:\n",
      "\n",
      "Scoring method mean_squared_error was renamed to neg_mean_squared_error in version 0.18 and will be removed in 0.20.\n",
      "\n",
      "/home/user/ml_assgn/lib/python3.5/site-packages/sklearn/metrics/scorer.py:90: DeprecationWarning:\n",
      "\n",
      "Scoring method mean_squared_error was renamed to neg_mean_squared_error in version 0.18 and will be removed in 0.20.\n",
      "\n",
      "/home/user/ml_assgn/lib/python3.5/site-packages/sklearn/metrics/scorer.py:90: DeprecationWarning:\n",
      "\n",
      "Scoring method mean_squared_error was renamed to neg_mean_squared_error in version 0.18 and will be removed in 0.20.\n",
      "\n",
      "/home/user/ml_assgn/lib/python3.5/site-packages/sklearn/metrics/scorer.py:90: DeprecationWarning:\n",
      "\n",
      "Scoring method mean_squared_error was renamed to neg_mean_squared_error in version 0.18 and will be removed in 0.20.\n",
      "\n",
      "/home/user/ml_assgn/lib/python3.5/site-packages/sklearn/metrics/scorer.py:90: DeprecationWarning:\n",
      "\n",
      "Scoring method mean_squared_error was renamed to neg_mean_squared_error in version 0.18 and will be removed in 0.20.\n",
      "\n",
      "/home/user/ml_assgn/lib/python3.5/site-packages/sklearn/metrics/scorer.py:90: DeprecationWarning:\n",
      "\n",
      "Scoring method mean_squared_error was renamed to neg_mean_squared_error in version 0.18 and will be removed in 0.20.\n",
      "\n",
      "/home/user/ml_assgn/lib/python3.5/site-packages/sklearn/metrics/scorer.py:90: DeprecationWarning:\n",
      "\n",
      "Scoring method mean_squared_error was renamed to neg_mean_squared_error in version 0.18 and will be removed in 0.20.\n",
      "\n",
      "/home/user/ml_assgn/lib/python3.5/site-packages/sklearn/metrics/scorer.py:90: DeprecationWarning:\n",
      "\n",
      "Scoring method mean_squared_error was renamed to neg_mean_squared_error in version 0.18 and will be removed in 0.20.\n",
      "\n",
      "/home/user/ml_assgn/lib/python3.5/site-packages/sklearn/metrics/scorer.py:90: DeprecationWarning:\n",
      "\n",
      "Scoring method mean_squared_error was renamed to neg_mean_squared_error in version 0.18 and will be removed in 0.20.\n",
      "\n",
      "/home/user/ml_assgn/lib/python3.5/site-packages/sklearn/metrics/scorer.py:90: DeprecationWarning:\n",
      "\n",
      "Scoring method mean_squared_error was renamed to neg_mean_squared_error in version 0.18 and will be removed in 0.20.\n",
      "\n",
      "/home/user/ml_assgn/lib/python3.5/site-packages/sklearn/metrics/scorer.py:90: DeprecationWarning:\n",
      "\n",
      "Scoring method mean_squared_error was renamed to neg_mean_squared_error in version 0.18 and will be removed in 0.20.\n",
      "\n",
      "/home/user/ml_assgn/lib/python3.5/site-packages/sklearn/metrics/scorer.py:90: DeprecationWarning:\n",
      "\n",
      "Scoring method mean_squared_error was renamed to neg_mean_squared_error in version 0.18 and will be removed in 0.20.\n",
      "\n",
      "/home/user/ml_assgn/lib/python3.5/site-packages/sklearn/metrics/scorer.py:90: DeprecationWarning:\n",
      "\n",
      "Scoring method mean_squared_error was renamed to neg_mean_squared_error in version 0.18 and will be removed in 0.20.\n",
      "\n",
      "/home/user/ml_assgn/lib/python3.5/site-packages/sklearn/metrics/scorer.py:90: DeprecationWarning:\n",
      "\n",
      "Scoring method mean_squared_error was renamed to neg_mean_squared_error in version 0.18 and will be removed in 0.20.\n",
      "\n",
      "/home/user/ml_assgn/lib/python3.5/site-packages/sklearn/metrics/scorer.py:90: DeprecationWarning:\n",
      "\n",
      "Scoring method mean_squared_error was renamed to neg_mean_squared_error in version 0.18 and will be removed in 0.20.\n",
      "\n",
      "/home/user/ml_assgn/lib/python3.5/site-packages/sklearn/metrics/scorer.py:90: DeprecationWarning:\n",
      "\n",
      "Scoring method mean_squared_error was renamed to neg_mean_squared_error in version 0.18 and will be removed in 0.20.\n",
      "\n",
      "/home/user/ml_assgn/lib/python3.5/site-packages/sklearn/metrics/scorer.py:90: DeprecationWarning:\n",
      "\n",
      "Scoring method mean_squared_error was renamed to neg_mean_squared_error in version 0.18 and will be removed in 0.20.\n",
      "\n",
      "/home/user/ml_assgn/lib/python3.5/site-packages/sklearn/metrics/scorer.py:90: DeprecationWarning:\n",
      "\n",
      "Scoring method mean_squared_error was renamed to neg_mean_squared_error in version 0.18 and will be removed in 0.20.\n",
      "\n",
      "/home/user/ml_assgn/lib/python3.5/site-packages/sklearn/metrics/scorer.py:90: DeprecationWarning:\n",
      "\n",
      "Scoring method mean_squared_error was renamed to neg_mean_squared_error in version 0.18 and will be removed in 0.20.\n",
      "\n",
      "/home/user/ml_assgn/lib/python3.5/site-packages/sklearn/metrics/scorer.py:90: DeprecationWarning:\n",
      "\n",
      "Scoring method mean_squared_error was renamed to neg_mean_squared_error in version 0.18 and will be removed in 0.20.\n",
      "\n",
      "/home/user/ml_assgn/lib/python3.5/site-packages/sklearn/metrics/scorer.py:90: DeprecationWarning:\n",
      "\n",
      "Scoring method mean_squared_error was renamed to neg_mean_squared_error in version 0.18 and will be removed in 0.20.\n",
      "\n",
      "/home/user/ml_assgn/lib/python3.5/site-packages/sklearn/metrics/scorer.py:90: DeprecationWarning:\n",
      "\n",
      "Scoring method mean_squared_error was renamed to neg_mean_squared_error in version 0.18 and will be removed in 0.20.\n",
      "\n",
      "/home/user/ml_assgn/lib/python3.5/site-packages/sklearn/metrics/scorer.py:90: DeprecationWarning:\n",
      "\n",
      "Scoring method mean_squared_error was renamed to neg_mean_squared_error in version 0.18 and will be removed in 0.20.\n",
      "\n",
      "/home/user/ml_assgn/lib/python3.5/site-packages/sklearn/metrics/scorer.py:90: DeprecationWarning:\n",
      "\n",
      "Scoring method mean_squared_error was renamed to neg_mean_squared_error in version 0.18 and will be removed in 0.20.\n",
      "\n",
      "/home/user/ml_assgn/lib/python3.5/site-packages/sklearn/metrics/scorer.py:90: DeprecationWarning:\n",
      "\n",
      "Scoring method mean_squared_error was renamed to neg_mean_squared_error in version 0.18 and will be removed in 0.20.\n",
      "\n",
      "/home/user/ml_assgn/lib/python3.5/site-packages/sklearn/metrics/scorer.py:90: DeprecationWarning:\n",
      "\n",
      "Scoring method mean_squared_error was renamed to neg_mean_squared_error in version 0.18 and will be removed in 0.20.\n",
      "\n",
      "/home/user/ml_assgn/lib/python3.5/site-packages/sklearn/metrics/scorer.py:90: DeprecationWarning:\n",
      "\n",
      "Scoring method mean_squared_error was renamed to neg_mean_squared_error in version 0.18 and will be removed in 0.20.\n",
      "\n",
      "/home/user/ml_assgn/lib/python3.5/site-packages/sklearn/metrics/scorer.py:90: DeprecationWarning:\n",
      "\n",
      "Scoring method mean_squared_error was renamed to neg_mean_squared_error in version 0.18 and will be removed in 0.20.\n",
      "\n",
      "/home/user/ml_assgn/lib/python3.5/site-packages/sklearn/metrics/scorer.py:90: DeprecationWarning:\n",
      "\n",
      "Scoring method mean_squared_error was renamed to neg_mean_squared_error in version 0.18 and will be removed in 0.20.\n",
      "\n",
      "/home/user/ml_assgn/lib/python3.5/site-packages/sklearn/metrics/scorer.py:90: DeprecationWarning:\n",
      "\n",
      "Scoring method mean_squared_error was renamed to neg_mean_squared_error in version 0.18 and will be removed in 0.20.\n",
      "\n",
      "/home/user/ml_assgn/lib/python3.5/site-packages/sklearn/metrics/scorer.py:90: DeprecationWarning:\n",
      "\n",
      "Scoring method mean_squared_error was renamed to neg_mean_squared_error in version 0.18 and will be removed in 0.20.\n",
      "\n",
      "/home/user/ml_assgn/lib/python3.5/site-packages/sklearn/metrics/scorer.py:90: DeprecationWarning:\n",
      "\n",
      "Scoring method mean_squared_error was renamed to neg_mean_squared_error in version 0.18 and will be removed in 0.20.\n",
      "\n",
      "/home/user/ml_assgn/lib/python3.5/site-packages/sklearn/metrics/scorer.py:90: DeprecationWarning:\n",
      "\n",
      "Scoring method mean_squared_error was renamed to neg_mean_squared_error in version 0.18 and will be removed in 0.20.\n",
      "\n",
      "/home/user/ml_assgn/lib/python3.5/site-packages/sklearn/metrics/scorer.py:90: DeprecationWarning:\n",
      "\n",
      "Scoring method mean_squared_error was renamed to neg_mean_squared_error in version 0.18 and will be removed in 0.20.\n",
      "\n",
      "/home/user/ml_assgn/lib/python3.5/site-packages/sklearn/metrics/scorer.py:90: DeprecationWarning:\n",
      "\n",
      "Scoring method mean_squared_error was renamed to neg_mean_squared_error in version 0.18 and will be removed in 0.20.\n",
      "\n",
      "/home/user/ml_assgn/lib/python3.5/site-packages/sklearn/metrics/scorer.py:90: DeprecationWarning:\n",
      "\n",
      "Scoring method mean_squared_error was renamed to neg_mean_squared_error in version 0.18 and will be removed in 0.20.\n",
      "\n",
      "/home/user/ml_assgn/lib/python3.5/site-packages/sklearn/metrics/scorer.py:90: DeprecationWarning:\n",
      "\n",
      "Scoring method mean_squared_error was renamed to neg_mean_squared_error in version 0.18 and will be removed in 0.20.\n",
      "\n",
      "/home/user/ml_assgn/lib/python3.5/site-packages/sklearn/metrics/scorer.py:90: DeprecationWarning:\n",
      "\n",
      "Scoring method mean_squared_error was renamed to neg_mean_squared_error in version 0.18 and will be removed in 0.20.\n",
      "\n",
      "/home/user/ml_assgn/lib/python3.5/site-packages/sklearn/metrics/scorer.py:90: DeprecationWarning:\n",
      "\n",
      "Scoring method mean_squared_error was renamed to neg_mean_squared_error in version 0.18 and will be removed in 0.20.\n",
      "\n",
      "/home/user/ml_assgn/lib/python3.5/site-packages/sklearn/metrics/scorer.py:90: DeprecationWarning:\n",
      "\n",
      "Scoring method mean_squared_error was renamed to neg_mean_squared_error in version 0.18 and will be removed in 0.20.\n",
      "\n",
      "/home/user/ml_assgn/lib/python3.5/site-packages/sklearn/metrics/scorer.py:90: DeprecationWarning:\n",
      "\n",
      "Scoring method mean_squared_error was renamed to neg_mean_squared_error in version 0.18 and will be removed in 0.20.\n",
      "\n",
      "/home/user/ml_assgn/lib/python3.5/site-packages/sklearn/metrics/scorer.py:90: DeprecationWarning:\n",
      "\n",
      "Scoring method mean_squared_error was renamed to neg_mean_squared_error in version 0.18 and will be removed in 0.20.\n",
      "\n",
      "/home/user/ml_assgn/lib/python3.5/site-packages/sklearn/metrics/scorer.py:90: DeprecationWarning:\n",
      "\n",
      "Scoring method mean_squared_error was renamed to neg_mean_squared_error in version 0.18 and will be removed in 0.20.\n",
      "\n",
      "/home/user/ml_assgn/lib/python3.5/site-packages/sklearn/metrics/scorer.py:90: DeprecationWarning:\n",
      "\n",
      "Scoring method mean_squared_error was renamed to neg_mean_squared_error in version 0.18 and will be removed in 0.20.\n",
      "\n",
      "/home/user/ml_assgn/lib/python3.5/site-packages/sklearn/metrics/scorer.py:90: DeprecationWarning:\n",
      "\n",
      "Scoring method mean_squared_error was renamed to neg_mean_squared_error in version 0.18 and will be removed in 0.20.\n",
      "\n",
      "/home/user/ml_assgn/lib/python3.5/site-packages/sklearn/metrics/scorer.py:90: DeprecationWarning:\n",
      "\n",
      "Scoring method mean_squared_error was renamed to neg_mean_squared_error in version 0.18 and will be removed in 0.20.\n",
      "\n",
      "/home/user/ml_assgn/lib/python3.5/site-packages/sklearn/metrics/scorer.py:90: DeprecationWarning:\n",
      "\n",
      "Scoring method mean_squared_error was renamed to neg_mean_squared_error in version 0.18 and will be removed in 0.20.\n",
      "\n",
      "/home/user/ml_assgn/lib/python3.5/site-packages/sklearn/metrics/scorer.py:90: DeprecationWarning:\n",
      "\n",
      "Scoring method mean_squared_error was renamed to neg_mean_squared_error in version 0.18 and will be removed in 0.20.\n",
      "\n",
      "/home/user/ml_assgn/lib/python3.5/site-packages/sklearn/metrics/scorer.py:90: DeprecationWarning:\n",
      "\n",
      "Scoring method mean_squared_error was renamed to neg_mean_squared_error in version 0.18 and will be removed in 0.20.\n",
      "\n",
      "/home/user/ml_assgn/lib/python3.5/site-packages/sklearn/metrics/scorer.py:90: DeprecationWarning:\n",
      "\n",
      "Scoring method mean_squared_error was renamed to neg_mean_squared_error in version 0.18 and will be removed in 0.20.\n",
      "\n",
      "/home/user/ml_assgn/lib/python3.5/site-packages/sklearn/metrics/scorer.py:90: DeprecationWarning:\n",
      "\n",
      "Scoring method mean_squared_error was renamed to neg_mean_squared_error in version 0.18 and will be removed in 0.20.\n",
      "\n",
      "/home/user/ml_assgn/lib/python3.5/site-packages/sklearn/metrics/scorer.py:90: DeprecationWarning:\n",
      "\n",
      "Scoring method mean_squared_error was renamed to neg_mean_squared_error in version 0.18 and will be removed in 0.20.\n",
      "\n",
      "/home/user/ml_assgn/lib/python3.5/site-packages/sklearn/metrics/scorer.py:90: DeprecationWarning:\n",
      "\n",
      "Scoring method mean_squared_error was renamed to neg_mean_squared_error in version 0.18 and will be removed in 0.20.\n",
      "\n",
      "/home/user/ml_assgn/lib/python3.5/site-packages/sklearn/metrics/scorer.py:90: DeprecationWarning:\n",
      "\n",
      "Scoring method mean_squared_error was renamed to neg_mean_squared_error in version 0.18 and will be removed in 0.20.\n",
      "\n",
      "/home/user/ml_assgn/lib/python3.5/site-packages/sklearn/metrics/scorer.py:90: DeprecationWarning:\n",
      "\n",
      "Scoring method mean_squared_error was renamed to neg_mean_squared_error in version 0.18 and will be removed in 0.20.\n",
      "\n",
      "/home/user/ml_assgn/lib/python3.5/site-packages/sklearn/metrics/scorer.py:90: DeprecationWarning:\n",
      "\n",
      "Scoring method mean_squared_error was renamed to neg_mean_squared_error in version 0.18 and will be removed in 0.20.\n",
      "\n",
      "/home/user/ml_assgn/lib/python3.5/site-packages/sklearn/metrics/scorer.py:90: DeprecationWarning:\n",
      "\n",
      "Scoring method mean_squared_error was renamed to neg_mean_squared_error in version 0.18 and will be removed in 0.20.\n",
      "\n",
      "/home/user/ml_assgn/lib/python3.5/site-packages/sklearn/metrics/scorer.py:90: DeprecationWarning:\n",
      "\n",
      "Scoring method mean_squared_error was renamed to neg_mean_squared_error in version 0.18 and will be removed in 0.20.\n",
      "\n",
      "/home/user/ml_assgn/lib/python3.5/site-packages/sklearn/metrics/scorer.py:90: DeprecationWarning:\n",
      "\n",
      "Scoring method mean_squared_error was renamed to neg_mean_squared_error in version 0.18 and will be removed in 0.20.\n",
      "\n",
      "/home/user/ml_assgn/lib/python3.5/site-packages/sklearn/metrics/scorer.py:90: DeprecationWarning:\n",
      "\n",
      "Scoring method mean_squared_error was renamed to neg_mean_squared_error in version 0.18 and will be removed in 0.20.\n",
      "\n",
      "/home/user/ml_assgn/lib/python3.5/site-packages/sklearn/metrics/scorer.py:90: DeprecationWarning:\n",
      "\n",
      "Scoring method mean_squared_error was renamed to neg_mean_squared_error in version 0.18 and will be removed in 0.20.\n",
      "\n",
      "/home/user/ml_assgn/lib/python3.5/site-packages/sklearn/metrics/scorer.py:90: DeprecationWarning:\n",
      "\n",
      "Scoring method mean_squared_error was renamed to neg_mean_squared_error in version 0.18 and will be removed in 0.20.\n",
      "\n",
      "/home/user/ml_assgn/lib/python3.5/site-packages/sklearn/metrics/scorer.py:90: DeprecationWarning:\n",
      "\n",
      "Scoring method mean_squared_error was renamed to neg_mean_squared_error in version 0.18 and will be removed in 0.20.\n",
      "\n",
      "/home/user/ml_assgn/lib/python3.5/site-packages/sklearn/metrics/scorer.py:90: DeprecationWarning:\n",
      "\n",
      "Scoring method mean_squared_error was renamed to neg_mean_squared_error in version 0.18 and will be removed in 0.20.\n",
      "\n",
      "/home/user/ml_assgn/lib/python3.5/site-packages/sklearn/metrics/scorer.py:90: DeprecationWarning:\n",
      "\n",
      "Scoring method mean_squared_error was renamed to neg_mean_squared_error in version 0.18 and will be removed in 0.20.\n",
      "\n",
      "/home/user/ml_assgn/lib/python3.5/site-packages/sklearn/metrics/scorer.py:90: DeprecationWarning:\n",
      "\n",
      "Scoring method mean_squared_error was renamed to neg_mean_squared_error in version 0.18 and will be removed in 0.20.\n",
      "\n",
      "/home/user/ml_assgn/lib/python3.5/site-packages/sklearn/metrics/scorer.py:90: DeprecationWarning:\n",
      "\n",
      "Scoring method mean_squared_error was renamed to neg_mean_squared_error in version 0.18 and will be removed in 0.20.\n",
      "\n",
      "/home/user/ml_assgn/lib/python3.5/site-packages/sklearn/metrics/scorer.py:90: DeprecationWarning:\n",
      "\n",
      "Scoring method mean_squared_error was renamed to neg_mean_squared_error in version 0.18 and will be removed in 0.20.\n",
      "\n",
      "/home/user/ml_assgn/lib/python3.5/site-packages/sklearn/metrics/scorer.py:90: DeprecationWarning:\n",
      "\n",
      "Scoring method mean_squared_error was renamed to neg_mean_squared_error in version 0.18 and will be removed in 0.20.\n",
      "\n",
      "/home/user/ml_assgn/lib/python3.5/site-packages/sklearn/metrics/scorer.py:90: DeprecationWarning:\n",
      "\n",
      "Scoring method mean_squared_error was renamed to neg_mean_squared_error in version 0.18 and will be removed in 0.20.\n",
      "\n",
      "/home/user/ml_assgn/lib/python3.5/site-packages/sklearn/metrics/scorer.py:90: DeprecationWarning:\n",
      "\n",
      "Scoring method mean_squared_error was renamed to neg_mean_squared_error in version 0.18 and will be removed in 0.20.\n",
      "\n",
      "/home/user/ml_assgn/lib/python3.5/site-packages/sklearn/metrics/scorer.py:90: DeprecationWarning:\n",
      "\n",
      "Scoring method mean_squared_error was renamed to neg_mean_squared_error in version 0.18 and will be removed in 0.20.\n",
      "\n",
      "/home/user/ml_assgn/lib/python3.5/site-packages/sklearn/metrics/scorer.py:90: DeprecationWarning:\n",
      "\n",
      "Scoring method mean_squared_error was renamed to neg_mean_squared_error in version 0.18 and will be removed in 0.20.\n",
      "\n",
      "/home/user/ml_assgn/lib/python3.5/site-packages/sklearn/metrics/scorer.py:90: DeprecationWarning:\n",
      "\n",
      "Scoring method mean_squared_error was renamed to neg_mean_squared_error in version 0.18 and will be removed in 0.20.\n",
      "\n",
      "/home/user/ml_assgn/lib/python3.5/site-packages/sklearn/metrics/scorer.py:90: DeprecationWarning:\n",
      "\n",
      "Scoring method mean_squared_error was renamed to neg_mean_squared_error in version 0.18 and will be removed in 0.20.\n",
      "\n",
      "/home/user/ml_assgn/lib/python3.5/site-packages/sklearn/metrics/scorer.py:90: DeprecationWarning:\n",
      "\n",
      "Scoring method mean_squared_error was renamed to neg_mean_squared_error in version 0.18 and will be removed in 0.20.\n",
      "\n",
      "/home/user/ml_assgn/lib/python3.5/site-packages/sklearn/metrics/scorer.py:90: DeprecationWarning:\n",
      "\n",
      "Scoring method mean_squared_error was renamed to neg_mean_squared_error in version 0.18 and will be removed in 0.20.\n",
      "\n",
      "/home/user/ml_assgn/lib/python3.5/site-packages/sklearn/metrics/scorer.py:90: DeprecationWarning:\n",
      "\n",
      "Scoring method mean_squared_error was renamed to neg_mean_squared_error in version 0.18 and will be removed in 0.20.\n",
      "\n",
      "/home/user/ml_assgn/lib/python3.5/site-packages/sklearn/metrics/scorer.py:90: DeprecationWarning:\n",
      "\n",
      "Scoring method mean_squared_error was renamed to neg_mean_squared_error in version 0.18 and will be removed in 0.20.\n",
      "\n",
      "/home/user/ml_assgn/lib/python3.5/site-packages/sklearn/metrics/scorer.py:90: DeprecationWarning:\n",
      "\n",
      "Scoring method mean_squared_error was renamed to neg_mean_squared_error in version 0.18 and will be removed in 0.20.\n",
      "\n",
      "/home/user/ml_assgn/lib/python3.5/site-packages/sklearn/metrics/scorer.py:90: DeprecationWarning:\n",
      "\n",
      "Scoring method mean_squared_error was renamed to neg_mean_squared_error in version 0.18 and will be removed in 0.20.\n",
      "\n",
      "/home/user/ml_assgn/lib/python3.5/site-packages/sklearn/metrics/scorer.py:90: DeprecationWarning:\n",
      "\n",
      "Scoring method mean_squared_error was renamed to neg_mean_squared_error in version 0.18 and will be removed in 0.20.\n",
      "\n",
      "/home/user/ml_assgn/lib/python3.5/site-packages/sklearn/metrics/scorer.py:90: DeprecationWarning:\n",
      "\n",
      "Scoring method mean_squared_error was renamed to neg_mean_squared_error in version 0.18 and will be removed in 0.20.\n",
      "\n",
      "/home/user/ml_assgn/lib/python3.5/site-packages/sklearn/metrics/scorer.py:90: DeprecationWarning:\n",
      "\n",
      "Scoring method mean_squared_error was renamed to neg_mean_squared_error in version 0.18 and will be removed in 0.20.\n",
      "\n",
      "/home/user/ml_assgn/lib/python3.5/site-packages/sklearn/metrics/scorer.py:90: DeprecationWarning:\n",
      "\n",
      "Scoring method mean_squared_error was renamed to neg_mean_squared_error in version 0.18 and will be removed in 0.20.\n",
      "\n",
      "/home/user/ml_assgn/lib/python3.5/site-packages/sklearn/metrics/scorer.py:90: DeprecationWarning:\n",
      "\n",
      "Scoring method mean_squared_error was renamed to neg_mean_squared_error in version 0.18 and will be removed in 0.20.\n",
      "\n",
      "/home/user/ml_assgn/lib/python3.5/site-packages/sklearn/metrics/scorer.py:90: DeprecationWarning:\n",
      "\n",
      "Scoring method mean_squared_error was renamed to neg_mean_squared_error in version 0.18 and will be removed in 0.20.\n",
      "\n",
      "/home/user/ml_assgn/lib/python3.5/site-packages/sklearn/metrics/scorer.py:90: DeprecationWarning:\n",
      "\n",
      "Scoring method mean_squared_error was renamed to neg_mean_squared_error in version 0.18 and will be removed in 0.20.\n",
      "\n",
      "/home/user/ml_assgn/lib/python3.5/site-packages/sklearn/metrics/scorer.py:90: DeprecationWarning:\n",
      "\n",
      "Scoring method mean_squared_error was renamed to neg_mean_squared_error in version 0.18 and will be removed in 0.20.\n",
      "\n",
      "/home/user/ml_assgn/lib/python3.5/site-packages/sklearn/metrics/scorer.py:90: DeprecationWarning:\n",
      "\n",
      "Scoring method mean_squared_error was renamed to neg_mean_squared_error in version 0.18 and will be removed in 0.20.\n",
      "\n",
      "/home/user/ml_assgn/lib/python3.5/site-packages/sklearn/metrics/scorer.py:90: DeprecationWarning:\n",
      "\n",
      "Scoring method mean_squared_error was renamed to neg_mean_squared_error in version 0.18 and will be removed in 0.20.\n",
      "\n",
      "/home/user/ml_assgn/lib/python3.5/site-packages/sklearn/metrics/scorer.py:90: DeprecationWarning:\n",
      "\n",
      "Scoring method mean_squared_error was renamed to neg_mean_squared_error in version 0.18 and will be removed in 0.20.\n",
      "\n",
      "/home/user/ml_assgn/lib/python3.5/site-packages/sklearn/metrics/scorer.py:90: DeprecationWarning:\n",
      "\n",
      "Scoring method mean_squared_error was renamed to neg_mean_squared_error in version 0.18 and will be removed in 0.20.\n",
      "\n",
      "/home/user/ml_assgn/lib/python3.5/site-packages/sklearn/metrics/scorer.py:90: DeprecationWarning:\n",
      "\n",
      "Scoring method mean_squared_error was renamed to neg_mean_squared_error in version 0.18 and will be removed in 0.20.\n",
      "\n",
      "/home/user/ml_assgn/lib/python3.5/site-packages/sklearn/metrics/scorer.py:90: DeprecationWarning:\n",
      "\n",
      "Scoring method mean_squared_error was renamed to neg_mean_squared_error in version 0.18 and will be removed in 0.20.\n",
      "\n",
      "/home/user/ml_assgn/lib/python3.5/site-packages/sklearn/metrics/scorer.py:90: DeprecationWarning:\n",
      "\n",
      "Scoring method mean_squared_error was renamed to neg_mean_squared_error in version 0.18 and will be removed in 0.20.\n",
      "\n"
     ]
    },
    {
     "data": {
      "text/plain": [
       "0.015269277544167062"
      ]
     },
     "execution_count": 62,
     "metadata": {},
     "output_type": "execute_result"
    }
   ],
   "source": [
    "# Fiting the data in a Cross_Val Ridge Model to get the perfect alpha value for a ideal model\n",
    "ridge_cv = RidgeCV(alphas=alphas, scoring='mean_squared_error', normalize=True)\n",
    "ridge_cv.fit(X_train, Y_train)\n",
    "# Deducted perfect value of alpha for best ridge model\n",
    "ridge_cv.alpha_"
   ]
  },
  {
   "cell_type": "code",
   "execution_count": 63,
   "metadata": {
    "collapsed": false,
    "deletable": true,
    "editable": true
   },
   "outputs": [
    {
     "data": {
      "text/plain": [
       "Ridge(alpha=0.015269277544167062, copy_X=True, fit_intercept=True,\n",
       "   max_iter=None, normalize=True, random_state=None, solver='auto',\n",
       "   tol=0.001)"
      ]
     },
     "execution_count": 63,
     "metadata": {},
     "output_type": "execute_result"
    }
   ],
   "source": [
    "ridge3 = Ridge(alpha=ridge_cv.alpha_, normalize=True)\n",
    "ridge3.fit(X_train, Y_train)"
   ]
  },
  {
   "cell_type": "code",
   "execution_count": 65,
   "metadata": {
    "collapsed": false,
    "deletable": true,
    "editable": true
   },
   "outputs": [
    {
     "name": "stdout",
     "output_type": "stream",
     "text": [
      "SemiMajorAxis     6.540596\n",
      "Volume           -0.064365\n",
      "EscapeVelocity   -0.024330\n",
      "Density           3.887769\n",
      "dtype: float64\n",
      "590.787722841\n"
     ]
    },
    {
     "data": {
      "text/plain": [
       "Index(['SemiMajorAxis', 'Volume', 'EscapeVelocity', 'Density', 'Alpha'], dtype='object')"
      ]
     },
     "execution_count": 65,
     "metadata": {},
     "output_type": "execute_result"
    }
   ],
   "source": [
    "pred3 = ridge3.predict(X_test)\n",
    "\n",
    "print(pd.Series(ridge3.coef_, index=X.columns))\n",
    "print(mean_squared_error(Y_test, pred3))\n",
    "coefs_df.columns"
   ]
  },
  {
   "cell_type": "markdown",
   "metadata": {
    "deletable": true,
    "editable": true
   },
   "source": [
    "Plotly"
   ]
  },
  {
   "cell_type": "code",
   "execution_count": 67,
   "metadata": {
    "collapsed": false,
    "deletable": true,
    "editable": true
   },
   "outputs": [
    {
     "data": {
      "text/plain": [
       "'file:///home/user/ml_assgn/temp-plot.html'"
      ]
     },
     "execution_count": 67,
     "metadata": {},
     "output_type": "execute_result"
    }
   ],
   "source": [
    "# Traces\n",
    "trace0 = go.Scatter(\n",
    "    x = coefs_df.Alpha,\n",
    "    y = coefs_df.SemiMajorAxis,\n",
    "    name = 'SemiMajorAxis',\n",
    "    line = dict(\n",
    "        color = ('rgb(205, 12, 24)'),\n",
    "        width = 4)\n",
    ")\n",
    "trace1 = go.Scatter(\n",
    "    x = coefs_df.Alpha,\n",
    "    y = coefs_df.Volume,\n",
    "    name = 'volume',\n",
    "    line = dict(\n",
    "        color = ('rgb(22, 96, 167)'),\n",
    "        width = 4,)\n",
    ")\n",
    "trace2 = go.Scatter(\n",
    "    x = coefs_df.Alpha,\n",
    "    y = coefs_df.EscapeVelocity,\n",
    "    name = 'EscapeVelocity',\n",
    "    line = dict(\n",
    "        color = ('rgb(205, 12, 24)'),\n",
    "        width = 4,\n",
    "        dash = 'dash') # dash options include 'dash', 'dot', and 'dashdot'\n",
    ")\n",
    "trace3 = go.Scatter(\n",
    "    x = coefs_df.Alpha,\n",
    "    y = coefs_df.Density,\n",
    "    name = 'Density',\n",
    "    line = dict(\n",
    "        color = ('rgb(22, 96, 167)'),\n",
    "        width = 4,\n",
    "        dash = 'dash')\n",
    ")\n",
    "data1 = [trace0, trace1, trace2, trace3]\n",
    "\n",
    "layout = dict(title = 'Alpha vs weights',\n",
    "              xaxis = dict(title = 'Alpha'),\n",
    "              yaxis = dict(title = 'Weights'),\n",
    "              )\n",
    "fig = dict(data=data1, layout=layout)\n",
    "plot(fig)"
   ]
  },
  {
   "cell_type": "markdown",
   "metadata": {
    "deletable": true,
    "editable": true
   },
   "source": [
    "Lasso Regression"
   ]
  },
  {
   "cell_type": "code",
   "execution_count": 81,
   "metadata": {
    "collapsed": false,
    "deletable": true,
    "editable": true
   },
   "outputs": [
    {
     "data": {
      "image/png": "[encoded data removed]",
      "text/plain": [
       "<matplotlib.figure.Figure at 0x7f0a040949b0>"
      ]
     },
     "metadata": {},
     "output_type": "display_data"
    }
   ],
   "source": [
    "lasso = Lasso(max_iter=10000, normalize=True)\n",
    "coefs_lasso = []\n",
    "\n",
    "\n",
    "for a in alphas:\n",
    "    lasso.set_params(alpha=a)\n",
    "    lasso.fit(scale(X_train), Y_train)\n",
    "    coefs_lasso.append(lasso.coef_)\n",
    "    \n",
    "ax = plt.gca()\n",
    "ax.plot(alphas*2, coefs)\n",
    "ax.set_xscale('log')\n",
    "plt.axis('tight')\n",
    "plt.xlabel('alpha')\n",
    "plt.ylabel('weights')   \n",
    "plt.show()\n",
    "\n"
   ]
  },
  {
   "cell_type": "code",
   "execution_count": 79,
   "metadata": {
    "collapsed": false,
    "deletable": true,
    "editable": true
   },
   "outputs": [
    {
     "data": {
      "text/plain": [
       "597.70225947289862"
      ]
     },
     "execution_count": 79,
     "metadata": {},
     "output_type": "execute_result"
    }
   ],
   "source": [
    "lassocv = LassoCV(alphas=None, cv=10, max_iter=100000, normalize=True)\n",
    "lassocv.fit(X_train, Y_train)\n",
    "lasso.set_params(alpha=lassocv.alpha_)\n",
    "lasso.fit(X_train, Y_train)\n",
    "mean_squared_error(Y_test, lasso.predict(X_test))"
   ]
  },
  {
   "cell_type": "code",
   "execution_count": 77,
   "metadata": {
    "collapsed": false,
    "deletable": true,
    "editable": true
   },
   "outputs": [],
   "source": [
    "coefs_lasso_df = pd.DataFrame(coefs_lasso, columns=X.columns.values) \n",
    "coefs_lasso_df['Alpha'] = pd.DataFrame(alphas)"
   ]
  },
  {
   "cell_type": "code",
   "execution_count": 82,
   "metadata": {
    "collapsed": false,
    "deletable": true,
    "editable": true
   },
   "outputs": [
    {
     "data": {
      "text/plain": [
       "'file:///home/user/ml_assgn/temp-plot.html'"
      ]
     },
     "execution_count": 82,
     "metadata": {},
     "output_type": "execute_result"
    }
   ],
   "source": [
    "# Traces\n",
    "trace0 = go.Scatter(\n",
    "    x = coefs_lasso_df.Alpha,\n",
    "    y = coefs_lasso_df.SemiMajorAxis,\n",
    "    name = 'SemiMajorAxis',\n",
    "    line = dict(\n",
    "        color = ('rgb(205, 12, 24)'),\n",
    "        width = 4)\n",
    ")\n",
    "trace1 = go.Scatter(\n",
    "    x = coefs_lasso_df.Alpha,\n",
    "    y = coefs_lasso_df.Volume,\n",
    "    name = 'volume',\n",
    "    line = dict(\n",
    "        color = ('rgb(22, 96, 167)'),\n",
    "        width = 4,)\n",
    ")\n",
    "trace2 = go.Scatter(\n",
    "    x = coefs_lasso_df.Alpha,\n",
    "    y = coefs_lasso_df.EscapeVelocity,\n",
    "    name = 'EscapeVelocity',\n",
    "    line = dict(\n",
    "        color = ('rgb(205, 12, 24)'),\n",
    "        width = 4,\n",
    "        dash = 'dash') # dash options include 'dash', 'dot', and 'dashdot'\n",
    ")\n",
    "trace3 = go.Scatter(\n",
    "    x = coefs_lasso_df.Alpha,\n",
    "    y = coefs_lasso_df.Density,\n",
    "    name = 'Density',\n",
    "    line = dict(\n",
    "        color = ('rgb(22, 96, 167)'),\n",
    "        width = 4,\n",
    "        dash = 'dash')\n",
    ")\n",
    "data1 = [trace0, trace1, trace2, trace3]\n",
    "\n",
    "layout = dict(title = 'Alpha vs weights',\n",
    "              xaxis = dict(title = 'Alpha'),\n",
    "              yaxis = dict(title = 'Weights'),\n",
    "              )\n",
    "fig = dict(data=data1, layout=layout)\n",
    "plot(fig)"
   ]
  },
  {
   "cell_type": "code",
   "execution_count": 83,
   "metadata": {
    "collapsed": false,
    "deletable": true,
    "editable": true
   },
   "outputs": [
    {
     "data": {
      "text/plain": [
       "SemiMajorAxis     6.541104\n",
       "Volume           -0.000000\n",
       "EscapeVelocity   -0.000000\n",
       "Density           3.751254\n",
       "dtype: float64"
      ]
     },
     "execution_count": 83,
     "metadata": {},
     "output_type": "execute_result"
    }
   ],
   "source": [
    "lassocv = LassoCV(alphas=None, cv=10, max_iter=100000, normalize=True)\n",
    "lassocv.fit(X_train,Y_train)\n",
    "\n",
    "lasso.set_params(alpha=lassocv.alpha_)\n",
    "lasso.fit(X_train,Y_train)\n",
    "mean_squared_error(Y_test, lasso.predict(X_test))\n",
    "\n",
    "lasso.fit(X_train,Y_train)\n",
    "pd.Series(lasso.coef_, index=X.columns)"
   ]
  }
 ],
 "metadata": {
  "kernelspec": {
   "display_name": "Python 3",
   "language": "python",
   "name": "python3"
  },
  "language_info": {
   "codemirror_mode": {
    "name": "ipython",
    "version": 3
   },
   "file_extension": ".py",
   "mimetype": "text/x-python",
   "name": "python",
   "nbconvert_exporter": "python",
   "pygments_lexer": "ipython3",
   "version": "3.5.2"
  }
 },
 "nbformat": 4,
 "nbformat_minor": 2
}
